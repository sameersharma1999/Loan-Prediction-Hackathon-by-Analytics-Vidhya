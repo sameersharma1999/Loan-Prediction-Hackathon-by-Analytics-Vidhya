{
 "cells": [
  {
   "cell_type": "code",
   "execution_count": 1,
   "metadata": {},
   "outputs": [],
   "source": [
    "import pandas as pd\n",
    "import numpy as np\n",
    "from matplotlib import pyplot as plt\n",
    "plt.style.use('seaborn')\n",
    "plt.rcParams['figure.figsize'] = (8, 5)\n",
    "import seaborn as sns\n",
    "\n",
    "from sklearn.preprocessing import StandardScaler, LabelEncoder\n",
    "from scipy.stats import boxcox\n",
    "from sklearn.feature_selection import chi2, f_classif\n",
    "\n",
    "from sklearn.linear_model import LogisticRegression\n",
    "from sklearn.cluster import KMeans\n",
    "from sklearn.neighbors import KNeighborsClassifier\n",
    "from sklearn.svm import SVC\n",
    "from sklearn.ensemble import RandomForestClassifier, AdaBoostClassifier, GradientBoostingClassifier\n",
    "from xgboost import XGBClassifier\n",
    "from sklearn.naive_bayes import GaussianNB\n",
    "from sklearn.tree import DecisionTreeClassifier\n",
    "\n",
    "from sklearn.model_selection import cross_val_score, RandomizedSearchCV, GridSearchCV\n",
    "import pickle\n",
    "\n",
    "import warnings\n",
    "warnings.filterwarnings('ignore')"
   ]
  },
  {
   "cell_type": "code",
   "execution_count": 2,
   "metadata": {},
   "outputs": [],
   "source": [
    "train_df = pd.read_csv(filepath_or_buffer='train.csv')\n",
    "test_df = pd.read_csv(filepath_or_buffer='test.csv')\n",
    "\n",
    "test_loan_id = test_df['Loan_ID']"
   ]
  },
  {
   "cell_type": "raw",
   "metadata": {},
   "source": [
    "<<-- Data set Description -->>\n",
    "\n",
    "Variable\t                Description\n",
    "\n",
    "Loan_ID\t                    Unique Loan ID\n",
    "Gender\t                    Male/ Female\n",
    "Married                 \tApplicant married (Y/N)\n",
    "Dependents\t                Number of dependents\n",
    "Education\t                Applicant Education (Graduate/ Under Graduate)\n",
    "Self_Employed\t            Self employed (Y/N)\n",
    "ApplicantIncome\t            Applicant income\n",
    "CoapplicantIncome          \tCoapplicant income\n",
    "LoanAmount\t                Loan amount in thousands\n",
    "Loan_Amount_Term\t        Term of loan in months\n",
    "Credit_History\t            credit history meets guidelines\n",
    "Property_Area\t            Urban/ Semi Urban/ Rural\n",
    "Loan_Status\t                Loan approved (Y/N)"
   ]
  },
  {
   "cell_type": "markdown",
   "metadata": {},
   "source": [
    "# EDA (Exploriatory Data Analysis)"
   ]
  },
  {
   "cell_type": "code",
   "execution_count": 3,
   "metadata": {},
   "outputs": [
    {
     "data": {
      "text/plain": [
       "(614, 13)"
      ]
     },
     "execution_count": 3,
     "metadata": {},
     "output_type": "execute_result"
    }
   ],
   "source": [
    "train_df.shape"
   ]
  },
  {
   "cell_type": "code",
   "execution_count": 4,
   "metadata": {},
   "outputs": [
    {
     "data": {
      "text/plain": [
       "(367, 12)"
      ]
     },
     "execution_count": 4,
     "metadata": {},
     "output_type": "execute_result"
    }
   ],
   "source": [
    "test_df.shape"
   ]
  },
  {
   "cell_type": "code",
   "execution_count": 5,
   "metadata": {},
   "outputs": [
    {
     "data": {
      "text/html": [
       "<div>\n",
       "<style scoped>\n",
       "    .dataframe tbody tr th:only-of-type {\n",
       "        vertical-align: middle;\n",
       "    }\n",
       "\n",
       "    .dataframe tbody tr th {\n",
       "        vertical-align: top;\n",
       "    }\n",
       "\n",
       "    .dataframe thead th {\n",
       "        text-align: right;\n",
       "    }\n",
       "</style>\n",
       "<table border=\"1\" class=\"dataframe\">\n",
       "  <thead>\n",
       "    <tr style=\"text-align: right;\">\n",
       "      <th></th>\n",
       "      <th>Loan_ID</th>\n",
       "      <th>Gender</th>\n",
       "      <th>Married</th>\n",
       "      <th>Dependents</th>\n",
       "      <th>Education</th>\n",
       "      <th>Self_Employed</th>\n",
       "      <th>ApplicantIncome</th>\n",
       "      <th>CoapplicantIncome</th>\n",
       "      <th>LoanAmount</th>\n",
       "      <th>Loan_Amount_Term</th>\n",
       "      <th>Credit_History</th>\n",
       "      <th>Property_Area</th>\n",
       "      <th>Loan_Status</th>\n",
       "    </tr>\n",
       "  </thead>\n",
       "  <tbody>\n",
       "    <tr>\n",
       "      <td>0</td>\n",
       "      <td>LP001002</td>\n",
       "      <td>Male</td>\n",
       "      <td>No</td>\n",
       "      <td>0</td>\n",
       "      <td>Graduate</td>\n",
       "      <td>No</td>\n",
       "      <td>5849</td>\n",
       "      <td>0.0</td>\n",
       "      <td>NaN</td>\n",
       "      <td>360.0</td>\n",
       "      <td>1.0</td>\n",
       "      <td>Urban</td>\n",
       "      <td>Y</td>\n",
       "    </tr>\n",
       "    <tr>\n",
       "      <td>1</td>\n",
       "      <td>LP001003</td>\n",
       "      <td>Male</td>\n",
       "      <td>Yes</td>\n",
       "      <td>1</td>\n",
       "      <td>Graduate</td>\n",
       "      <td>No</td>\n",
       "      <td>4583</td>\n",
       "      <td>1508.0</td>\n",
       "      <td>128.0</td>\n",
       "      <td>360.0</td>\n",
       "      <td>1.0</td>\n",
       "      <td>Rural</td>\n",
       "      <td>N</td>\n",
       "    </tr>\n",
       "    <tr>\n",
       "      <td>2</td>\n",
       "      <td>LP001005</td>\n",
       "      <td>Male</td>\n",
       "      <td>Yes</td>\n",
       "      <td>0</td>\n",
       "      <td>Graduate</td>\n",
       "      <td>Yes</td>\n",
       "      <td>3000</td>\n",
       "      <td>0.0</td>\n",
       "      <td>66.0</td>\n",
       "      <td>360.0</td>\n",
       "      <td>1.0</td>\n",
       "      <td>Urban</td>\n",
       "      <td>Y</td>\n",
       "    </tr>\n",
       "    <tr>\n",
       "      <td>3</td>\n",
       "      <td>LP001006</td>\n",
       "      <td>Male</td>\n",
       "      <td>Yes</td>\n",
       "      <td>0</td>\n",
       "      <td>Not Graduate</td>\n",
       "      <td>No</td>\n",
       "      <td>2583</td>\n",
       "      <td>2358.0</td>\n",
       "      <td>120.0</td>\n",
       "      <td>360.0</td>\n",
       "      <td>1.0</td>\n",
       "      <td>Urban</td>\n",
       "      <td>Y</td>\n",
       "    </tr>\n",
       "    <tr>\n",
       "      <td>4</td>\n",
       "      <td>LP001008</td>\n",
       "      <td>Male</td>\n",
       "      <td>No</td>\n",
       "      <td>0</td>\n",
       "      <td>Graduate</td>\n",
       "      <td>No</td>\n",
       "      <td>6000</td>\n",
       "      <td>0.0</td>\n",
       "      <td>141.0</td>\n",
       "      <td>360.0</td>\n",
       "      <td>1.0</td>\n",
       "      <td>Urban</td>\n",
       "      <td>Y</td>\n",
       "    </tr>\n",
       "  </tbody>\n",
       "</table>\n",
       "</div>"
      ],
      "text/plain": [
       "    Loan_ID Gender Married Dependents     Education Self_Employed  \\\n",
       "0  LP001002   Male      No          0      Graduate            No   \n",
       "1  LP001003   Male     Yes          1      Graduate            No   \n",
       "2  LP001005   Male     Yes          0      Graduate           Yes   \n",
       "3  LP001006   Male     Yes          0  Not Graduate            No   \n",
       "4  LP001008   Male      No          0      Graduate            No   \n",
       "\n",
       "   ApplicantIncome  CoapplicantIncome  LoanAmount  Loan_Amount_Term  \\\n",
       "0             5849                0.0         NaN             360.0   \n",
       "1             4583             1508.0       128.0             360.0   \n",
       "2             3000                0.0        66.0             360.0   \n",
       "3             2583             2358.0       120.0             360.0   \n",
       "4             6000                0.0       141.0             360.0   \n",
       "\n",
       "   Credit_History Property_Area Loan_Status  \n",
       "0             1.0         Urban           Y  \n",
       "1             1.0         Rural           N  \n",
       "2             1.0         Urban           Y  \n",
       "3             1.0         Urban           Y  \n",
       "4             1.0         Urban           Y  "
      ]
     },
     "execution_count": 5,
     "metadata": {},
     "output_type": "execute_result"
    }
   ],
   "source": [
    "train_df.head()"
   ]
  },
  {
   "cell_type": "code",
   "execution_count": 6,
   "metadata": {},
   "outputs": [
    {
     "data": {
      "text/html": [
       "<div>\n",
       "<style scoped>\n",
       "    .dataframe tbody tr th:only-of-type {\n",
       "        vertical-align: middle;\n",
       "    }\n",
       "\n",
       "    .dataframe tbody tr th {\n",
       "        vertical-align: top;\n",
       "    }\n",
       "\n",
       "    .dataframe thead th {\n",
       "        text-align: right;\n",
       "    }\n",
       "</style>\n",
       "<table border=\"1\" class=\"dataframe\">\n",
       "  <thead>\n",
       "    <tr style=\"text-align: right;\">\n",
       "      <th></th>\n",
       "      <th>Loan_ID</th>\n",
       "      <th>Gender</th>\n",
       "      <th>Married</th>\n",
       "      <th>Dependents</th>\n",
       "      <th>Education</th>\n",
       "      <th>Self_Employed</th>\n",
       "      <th>ApplicantIncome</th>\n",
       "      <th>CoapplicantIncome</th>\n",
       "      <th>LoanAmount</th>\n",
       "      <th>Loan_Amount_Term</th>\n",
       "      <th>Credit_History</th>\n",
       "      <th>Property_Area</th>\n",
       "    </tr>\n",
       "  </thead>\n",
       "  <tbody>\n",
       "    <tr>\n",
       "      <td>0</td>\n",
       "      <td>LP001015</td>\n",
       "      <td>Male</td>\n",
       "      <td>Yes</td>\n",
       "      <td>0</td>\n",
       "      <td>Graduate</td>\n",
       "      <td>No</td>\n",
       "      <td>5720</td>\n",
       "      <td>0</td>\n",
       "      <td>110.0</td>\n",
       "      <td>360.0</td>\n",
       "      <td>1.0</td>\n",
       "      <td>Urban</td>\n",
       "    </tr>\n",
       "    <tr>\n",
       "      <td>1</td>\n",
       "      <td>LP001022</td>\n",
       "      <td>Male</td>\n",
       "      <td>Yes</td>\n",
       "      <td>1</td>\n",
       "      <td>Graduate</td>\n",
       "      <td>No</td>\n",
       "      <td>3076</td>\n",
       "      <td>1500</td>\n",
       "      <td>126.0</td>\n",
       "      <td>360.0</td>\n",
       "      <td>1.0</td>\n",
       "      <td>Urban</td>\n",
       "    </tr>\n",
       "    <tr>\n",
       "      <td>2</td>\n",
       "      <td>LP001031</td>\n",
       "      <td>Male</td>\n",
       "      <td>Yes</td>\n",
       "      <td>2</td>\n",
       "      <td>Graduate</td>\n",
       "      <td>No</td>\n",
       "      <td>5000</td>\n",
       "      <td>1800</td>\n",
       "      <td>208.0</td>\n",
       "      <td>360.0</td>\n",
       "      <td>1.0</td>\n",
       "      <td>Urban</td>\n",
       "    </tr>\n",
       "    <tr>\n",
       "      <td>3</td>\n",
       "      <td>LP001035</td>\n",
       "      <td>Male</td>\n",
       "      <td>Yes</td>\n",
       "      <td>2</td>\n",
       "      <td>Graduate</td>\n",
       "      <td>No</td>\n",
       "      <td>2340</td>\n",
       "      <td>2546</td>\n",
       "      <td>100.0</td>\n",
       "      <td>360.0</td>\n",
       "      <td>NaN</td>\n",
       "      <td>Urban</td>\n",
       "    </tr>\n",
       "    <tr>\n",
       "      <td>4</td>\n",
       "      <td>LP001051</td>\n",
       "      <td>Male</td>\n",
       "      <td>No</td>\n",
       "      <td>0</td>\n",
       "      <td>Not Graduate</td>\n",
       "      <td>No</td>\n",
       "      <td>3276</td>\n",
       "      <td>0</td>\n",
       "      <td>78.0</td>\n",
       "      <td>360.0</td>\n",
       "      <td>1.0</td>\n",
       "      <td>Urban</td>\n",
       "    </tr>\n",
       "  </tbody>\n",
       "</table>\n",
       "</div>"
      ],
      "text/plain": [
       "    Loan_ID Gender Married Dependents     Education Self_Employed  \\\n",
       "0  LP001015   Male     Yes          0      Graduate            No   \n",
       "1  LP001022   Male     Yes          1      Graduate            No   \n",
       "2  LP001031   Male     Yes          2      Graduate            No   \n",
       "3  LP001035   Male     Yes          2      Graduate            No   \n",
       "4  LP001051   Male      No          0  Not Graduate            No   \n",
       "\n",
       "   ApplicantIncome  CoapplicantIncome  LoanAmount  Loan_Amount_Term  \\\n",
       "0             5720                  0       110.0             360.0   \n",
       "1             3076               1500       126.0             360.0   \n",
       "2             5000               1800       208.0             360.0   \n",
       "3             2340               2546       100.0             360.0   \n",
       "4             3276                  0        78.0             360.0   \n",
       "\n",
       "   Credit_History Property_Area  \n",
       "0             1.0         Urban  \n",
       "1             1.0         Urban  \n",
       "2             1.0         Urban  \n",
       "3             NaN         Urban  \n",
       "4             1.0         Urban  "
      ]
     },
     "execution_count": 6,
     "metadata": {},
     "output_type": "execute_result"
    }
   ],
   "source": [
    "test_df.head()"
   ]
  },
  {
   "cell_type": "code",
   "execution_count": 7,
   "metadata": {},
   "outputs": [],
   "source": [
    "# <-- Drop 'Loan_ID' -->\n",
    "\n",
    "train_df.drop(labels='Loan_ID',  axis=1, inplace=True)\n",
    "test_df.drop(labels='Loan_ID',  axis=1, inplace=True)"
   ]
  },
  {
   "cell_type": "code",
   "execution_count": 8,
   "metadata": {},
   "outputs": [
    {
     "name": "stdout",
     "output_type": "stream",
     "text": [
      "<class 'pandas.core.frame.DataFrame'>\n",
      "RangeIndex: 614 entries, 0 to 613\n",
      "Data columns (total 12 columns):\n",
      "Gender               601 non-null object\n",
      "Married              611 non-null object\n",
      "Dependents           599 non-null object\n",
      "Education            614 non-null object\n",
      "Self_Employed        582 non-null object\n",
      "ApplicantIncome      614 non-null int64\n",
      "CoapplicantIncome    614 non-null float64\n",
      "LoanAmount           592 non-null float64\n",
      "Loan_Amount_Term     600 non-null float64\n",
      "Credit_History       564 non-null float64\n",
      "Property_Area        614 non-null object\n",
      "Loan_Status          614 non-null object\n",
      "dtypes: float64(4), int64(1), object(7)\n",
      "memory usage: 57.7+ KB\n"
     ]
    }
   ],
   "source": [
    "train_df.info()"
   ]
  },
  {
   "cell_type": "code",
   "execution_count": 9,
   "metadata": {},
   "outputs": [],
   "source": [
    "train_df['Credit_History'].replace({1:'Good', 0:'Bad'}, inplace=True)\n",
    "test_df['Credit_History'].replace({1:'Good', 0:'Bad'}, inplace=True)"
   ]
  },
  {
   "cell_type": "code",
   "execution_count": 10,
   "metadata": {},
   "outputs": [],
   "source": [
    "continuous_features = ['Loan_Amount_Term', 'ApplicantIncome', 'CoapplicantIncome', 'LoanAmount']\n",
    "categorical_features = ['Dependents', 'Gender', 'Married', 'Education', 'Self_Employed', 'Credit_History', 'Property_Area', 'Loan_Status']"
   ]
  },
  {
   "cell_type": "code",
   "execution_count": 11,
   "metadata": {},
   "outputs": [],
   "source": [
    "pd.set_option('display.max_rows', 100)\n",
    "\n",
    "temp_df = ...\n",
    "\n",
    "def custom_table(df):\n",
    "    column_names = df.columns\n",
    "    types = [df[column].dtype for column in column_names]\n",
    "    total_count = [df[column].count() for column in column_names]\n",
    "    distincts = [len(df[column].unique()) for column in column_names]\n",
    "    uniques = [df[column].unique() for column in column_names]\n",
    "    null_count = [df[column].isnull().sum() for column in column_names]\n",
    "    null_percentage = [round((n_c/1460)*100, 2) for n_c in null_count]\n",
    "    skewness =  [df[column].skew() if column in continuous_features else np.nan for column in column_names ]\n",
    "    feature_type = ['continuous' if column in continuous_features else 'categorical' for column in column_names]\n",
    "\n",
    "\n",
    "    data = zip(types, total_count, distincts, uniques,null_count, null_percentage, skewness,feature_type)\n",
    "\n",
    "    temp_df = pd.DataFrame(data=data, columns=['types', 'total_count', 'distincts', 'uniques','null_count', \n",
    "                                               'null_percentage', 'skewness','feature_type'], index=column_names)\n",
    "    \n",
    "    return temp_df"
   ]
  },
  {
   "cell_type": "code",
   "execution_count": 12,
   "metadata": {},
   "outputs": [
    {
     "data": {
      "text/html": [
       "<div>\n",
       "<style scoped>\n",
       "    .dataframe tbody tr th:only-of-type {\n",
       "        vertical-align: middle;\n",
       "    }\n",
       "\n",
       "    .dataframe tbody tr th {\n",
       "        vertical-align: top;\n",
       "    }\n",
       "\n",
       "    .dataframe thead th {\n",
       "        text-align: right;\n",
       "    }\n",
       "</style>\n",
       "<table border=\"1\" class=\"dataframe\">\n",
       "  <thead>\n",
       "    <tr style=\"text-align: right;\">\n",
       "      <th></th>\n",
       "      <th>types</th>\n",
       "      <th>total_count</th>\n",
       "      <th>distincts</th>\n",
       "      <th>uniques</th>\n",
       "      <th>null_count</th>\n",
       "      <th>null_percentage</th>\n",
       "      <th>skewness</th>\n",
       "      <th>feature_type</th>\n",
       "    </tr>\n",
       "  </thead>\n",
       "  <tbody>\n",
       "    <tr>\n",
       "      <td>Gender</td>\n",
       "      <td>object</td>\n",
       "      <td>601</td>\n",
       "      <td>3</td>\n",
       "      <td>[Male, Female, nan]</td>\n",
       "      <td>13</td>\n",
       "      <td>0.89</td>\n",
       "      <td>NaN</td>\n",
       "      <td>categorical</td>\n",
       "    </tr>\n",
       "    <tr>\n",
       "      <td>Married</td>\n",
       "      <td>object</td>\n",
       "      <td>611</td>\n",
       "      <td>3</td>\n",
       "      <td>[No, Yes, nan]</td>\n",
       "      <td>3</td>\n",
       "      <td>0.21</td>\n",
       "      <td>NaN</td>\n",
       "      <td>categorical</td>\n",
       "    </tr>\n",
       "    <tr>\n",
       "      <td>Dependents</td>\n",
       "      <td>object</td>\n",
       "      <td>599</td>\n",
       "      <td>5</td>\n",
       "      <td>[0, 1, 2, 3+, nan]</td>\n",
       "      <td>15</td>\n",
       "      <td>1.03</td>\n",
       "      <td>NaN</td>\n",
       "      <td>categorical</td>\n",
       "    </tr>\n",
       "    <tr>\n",
       "      <td>Education</td>\n",
       "      <td>object</td>\n",
       "      <td>614</td>\n",
       "      <td>2</td>\n",
       "      <td>[Graduate, Not Graduate]</td>\n",
       "      <td>0</td>\n",
       "      <td>0.00</td>\n",
       "      <td>NaN</td>\n",
       "      <td>categorical</td>\n",
       "    </tr>\n",
       "    <tr>\n",
       "      <td>Self_Employed</td>\n",
       "      <td>object</td>\n",
       "      <td>582</td>\n",
       "      <td>3</td>\n",
       "      <td>[No, Yes, nan]</td>\n",
       "      <td>32</td>\n",
       "      <td>2.19</td>\n",
       "      <td>NaN</td>\n",
       "      <td>categorical</td>\n",
       "    </tr>\n",
       "    <tr>\n",
       "      <td>ApplicantIncome</td>\n",
       "      <td>int64</td>\n",
       "      <td>614</td>\n",
       "      <td>505</td>\n",
       "      <td>[5849, 4583, 3000, 2583, 6000, 5417, 2333, 303...</td>\n",
       "      <td>0</td>\n",
       "      <td>0.00</td>\n",
       "      <td>6.539513</td>\n",
       "      <td>continuous</td>\n",
       "    </tr>\n",
       "    <tr>\n",
       "      <td>CoapplicantIncome</td>\n",
       "      <td>float64</td>\n",
       "      <td>614</td>\n",
       "      <td>287</td>\n",
       "      <td>[0.0, 1508.0, 2358.0, 4196.0, 1516.0, 2504.0, ...</td>\n",
       "      <td>0</td>\n",
       "      <td>0.00</td>\n",
       "      <td>7.491531</td>\n",
       "      <td>continuous</td>\n",
       "    </tr>\n",
       "    <tr>\n",
       "      <td>LoanAmount</td>\n",
       "      <td>float64</td>\n",
       "      <td>592</td>\n",
       "      <td>204</td>\n",
       "      <td>[nan, 128.0, 66.0, 120.0, 141.0, 267.0, 95.0, ...</td>\n",
       "      <td>22</td>\n",
       "      <td>1.51</td>\n",
       "      <td>2.677552</td>\n",
       "      <td>continuous</td>\n",
       "    </tr>\n",
       "    <tr>\n",
       "      <td>Loan_Amount_Term</td>\n",
       "      <td>float64</td>\n",
       "      <td>600</td>\n",
       "      <td>11</td>\n",
       "      <td>[360.0, 120.0, 240.0, nan, 180.0, 60.0, 300.0,...</td>\n",
       "      <td>14</td>\n",
       "      <td>0.96</td>\n",
       "      <td>-2.362414</td>\n",
       "      <td>continuous</td>\n",
       "    </tr>\n",
       "    <tr>\n",
       "      <td>Credit_History</td>\n",
       "      <td>object</td>\n",
       "      <td>564</td>\n",
       "      <td>3</td>\n",
       "      <td>[Good, Bad, nan]</td>\n",
       "      <td>50</td>\n",
       "      <td>3.42</td>\n",
       "      <td>NaN</td>\n",
       "      <td>categorical</td>\n",
       "    </tr>\n",
       "    <tr>\n",
       "      <td>Property_Area</td>\n",
       "      <td>object</td>\n",
       "      <td>614</td>\n",
       "      <td>3</td>\n",
       "      <td>[Urban, Rural, Semiurban]</td>\n",
       "      <td>0</td>\n",
       "      <td>0.00</td>\n",
       "      <td>NaN</td>\n",
       "      <td>categorical</td>\n",
       "    </tr>\n",
       "    <tr>\n",
       "      <td>Loan_Status</td>\n",
       "      <td>object</td>\n",
       "      <td>614</td>\n",
       "      <td>2</td>\n",
       "      <td>[Y, N]</td>\n",
       "      <td>0</td>\n",
       "      <td>0.00</td>\n",
       "      <td>NaN</td>\n",
       "      <td>categorical</td>\n",
       "    </tr>\n",
       "  </tbody>\n",
       "</table>\n",
       "</div>"
      ],
      "text/plain": [
       "                     types  total_count  distincts  \\\n",
       "Gender              object          601          3   \n",
       "Married             object          611          3   \n",
       "Dependents          object          599          5   \n",
       "Education           object          614          2   \n",
       "Self_Employed       object          582          3   \n",
       "ApplicantIncome      int64          614        505   \n",
       "CoapplicantIncome  float64          614        287   \n",
       "LoanAmount         float64          592        204   \n",
       "Loan_Amount_Term   float64          600         11   \n",
       "Credit_History      object          564          3   \n",
       "Property_Area       object          614          3   \n",
       "Loan_Status         object          614          2   \n",
       "\n",
       "                                                             uniques  \\\n",
       "Gender                                           [Male, Female, nan]   \n",
       "Married                                               [No, Yes, nan]   \n",
       "Dependents                                        [0, 1, 2, 3+, nan]   \n",
       "Education                                   [Graduate, Not Graduate]   \n",
       "Self_Employed                                         [No, Yes, nan]   \n",
       "ApplicantIncome    [5849, 4583, 3000, 2583, 6000, 5417, 2333, 303...   \n",
       "CoapplicantIncome  [0.0, 1508.0, 2358.0, 4196.0, 1516.0, 2504.0, ...   \n",
       "LoanAmount         [nan, 128.0, 66.0, 120.0, 141.0, 267.0, 95.0, ...   \n",
       "Loan_Amount_Term   [360.0, 120.0, 240.0, nan, 180.0, 60.0, 300.0,...   \n",
       "Credit_History                                      [Good, Bad, nan]   \n",
       "Property_Area                              [Urban, Rural, Semiurban]   \n",
       "Loan_Status                                                   [Y, N]   \n",
       "\n",
       "                   null_count  null_percentage  skewness feature_type  \n",
       "Gender                     13             0.89       NaN  categorical  \n",
       "Married                     3             0.21       NaN  categorical  \n",
       "Dependents                 15             1.03       NaN  categorical  \n",
       "Education                   0             0.00       NaN  categorical  \n",
       "Self_Employed              32             2.19       NaN  categorical  \n",
       "ApplicantIncome             0             0.00  6.539513   continuous  \n",
       "CoapplicantIncome           0             0.00  7.491531   continuous  \n",
       "LoanAmount                 22             1.51  2.677552   continuous  \n",
       "Loan_Amount_Term           14             0.96 -2.362414   continuous  \n",
       "Credit_History             50             3.42       NaN  categorical  \n",
       "Property_Area               0             0.00       NaN  categorical  \n",
       "Loan_Status                 0             0.00       NaN  categorical  "
      ]
     },
     "execution_count": 12,
     "metadata": {},
     "output_type": "execute_result"
    }
   ],
   "source": [
    "custom_table(train_df)"
   ]
  },
  {
   "cell_type": "markdown",
   "metadata": {},
   "source": [
    "## Imputing for categorical variables"
   ]
  },
  {
   "cell_type": "code",
   "execution_count": 13,
   "metadata": {},
   "outputs": [],
   "source": [
    "# <<--- Gender --->>\n",
    "\n",
    "train_df['Gender'] = train_df['Gender'].fillna(train_df['Gender'].mode()[0]) \n",
    "test_df['Gender'] = test_df['Gender'].fillna(test_df['Gender'].mode()[0])"
   ]
  },
  {
   "cell_type": "code",
   "execution_count": 14,
   "metadata": {},
   "outputs": [],
   "source": [
    "# <<--- Married --->>\n",
    "\n",
    "train_df['Married'] = train_df['Married'].fillna(train_df['Married'].mode()[0]) \n",
    "test_df['Married'] = test_df['Married'].fillna(test_df['Married'].mode()[0]) "
   ]
  },
  {
   "cell_type": "code",
   "execution_count": 15,
   "metadata": {},
   "outputs": [],
   "source": [
    "# <<--- Dependents --->>\n",
    "\n",
    "train_df['Dependents'] = train_df['Dependents'].fillna(train_df['Dependents'].mode()[0]) \n",
    "test_df['Dependents'] = test_df['Dependents'].fillna(test_df['Dependents'].mode()[0]) "
   ]
  },
  {
   "cell_type": "code",
   "execution_count": 16,
   "metadata": {},
   "outputs": [],
   "source": [
    "# <<--- Self_Employed --->>\n",
    "\n",
    "train_df['Self_Employed'] = train_df['Self_Employed'].fillna(train_df['Self_Employed'].mode()[0]) \n",
    "test_df['Self_Employed'] = test_df['Self_Employed'].fillna(test_df['Self_Employed'].mode()[0]) "
   ]
  },
  {
   "cell_type": "code",
   "execution_count": 17,
   "metadata": {},
   "outputs": [],
   "source": [
    "# <<--- Credit_History --->>\n",
    "\n",
    "train_df['Credit_History'] = train_df['Credit_History'].fillna(train_df['Credit_History'].mode()[0]) \n",
    "test_df['Credit_History'] = test_df['Credit_History'].fillna(test_df['Credit_History'].mode()[0]) "
   ]
  },
  {
   "cell_type": "markdown",
   "metadata": {},
   "source": [
    "## Imputing for continuous variables"
   ]
  },
  {
   "cell_type": "code",
   "execution_count": 18,
   "metadata": {},
   "outputs": [],
   "source": [
    "# <<--- LoanAmount --->>\n",
    "\n",
    "train_df['LoanAmount'] = train_df['LoanAmount'].fillna(train_df['LoanAmount'].median())\n",
    "test_df['LoanAmount'] = test_df['LoanAmount'].fillna(test_df['LoanAmount'].median())"
   ]
  },
  {
   "cell_type": "code",
   "execution_count": 19,
   "metadata": {},
   "outputs": [],
   "source": [
    "# <<--- Loan_Amount_Term --->>\n",
    "\n",
    "train_df['Loan_Amount_Term'] = train_df['Loan_Amount_Term'].fillna(train_df['Loan_Amount_Term'].median())\n",
    "test_df['Loan_Amount_Term'] = test_df['Loan_Amount_Term'].fillna(test_df['Loan_Amount_Term'].median())"
   ]
  },
  {
   "cell_type": "code",
   "execution_count": 20,
   "metadata": {},
   "outputs": [
    {
     "data": {
      "text/html": [
       "<div>\n",
       "<style scoped>\n",
       "    .dataframe tbody tr th:only-of-type {\n",
       "        vertical-align: middle;\n",
       "    }\n",
       "\n",
       "    .dataframe tbody tr th {\n",
       "        vertical-align: top;\n",
       "    }\n",
       "\n",
       "    .dataframe thead th {\n",
       "        text-align: right;\n",
       "    }\n",
       "</style>\n",
       "<table border=\"1\" class=\"dataframe\">\n",
       "  <thead>\n",
       "    <tr style=\"text-align: right;\">\n",
       "      <th></th>\n",
       "      <th>types</th>\n",
       "      <th>total_count</th>\n",
       "      <th>distincts</th>\n",
       "      <th>uniques</th>\n",
       "      <th>null_count</th>\n",
       "      <th>null_percentage</th>\n",
       "      <th>skewness</th>\n",
       "      <th>feature_type</th>\n",
       "    </tr>\n",
       "  </thead>\n",
       "  <tbody>\n",
       "    <tr>\n",
       "      <td>Gender</td>\n",
       "      <td>object</td>\n",
       "      <td>614</td>\n",
       "      <td>2</td>\n",
       "      <td>[Male, Female]</td>\n",
       "      <td>0</td>\n",
       "      <td>0.0</td>\n",
       "      <td>NaN</td>\n",
       "      <td>categorical</td>\n",
       "    </tr>\n",
       "    <tr>\n",
       "      <td>Married</td>\n",
       "      <td>object</td>\n",
       "      <td>614</td>\n",
       "      <td>2</td>\n",
       "      <td>[No, Yes]</td>\n",
       "      <td>0</td>\n",
       "      <td>0.0</td>\n",
       "      <td>NaN</td>\n",
       "      <td>categorical</td>\n",
       "    </tr>\n",
       "    <tr>\n",
       "      <td>Dependents</td>\n",
       "      <td>object</td>\n",
       "      <td>614</td>\n",
       "      <td>4</td>\n",
       "      <td>[0, 1, 2, 3+]</td>\n",
       "      <td>0</td>\n",
       "      <td>0.0</td>\n",
       "      <td>NaN</td>\n",
       "      <td>categorical</td>\n",
       "    </tr>\n",
       "    <tr>\n",
       "      <td>Education</td>\n",
       "      <td>object</td>\n",
       "      <td>614</td>\n",
       "      <td>2</td>\n",
       "      <td>[Graduate, Not Graduate]</td>\n",
       "      <td>0</td>\n",
       "      <td>0.0</td>\n",
       "      <td>NaN</td>\n",
       "      <td>categorical</td>\n",
       "    </tr>\n",
       "    <tr>\n",
       "      <td>Self_Employed</td>\n",
       "      <td>object</td>\n",
       "      <td>614</td>\n",
       "      <td>2</td>\n",
       "      <td>[No, Yes]</td>\n",
       "      <td>0</td>\n",
       "      <td>0.0</td>\n",
       "      <td>NaN</td>\n",
       "      <td>categorical</td>\n",
       "    </tr>\n",
       "    <tr>\n",
       "      <td>ApplicantIncome</td>\n",
       "      <td>int64</td>\n",
       "      <td>614</td>\n",
       "      <td>505</td>\n",
       "      <td>[5849, 4583, 3000, 2583, 6000, 5417, 2333, 303...</td>\n",
       "      <td>0</td>\n",
       "      <td>0.0</td>\n",
       "      <td>6.539513</td>\n",
       "      <td>continuous</td>\n",
       "    </tr>\n",
       "    <tr>\n",
       "      <td>CoapplicantIncome</td>\n",
       "      <td>float64</td>\n",
       "      <td>614</td>\n",
       "      <td>287</td>\n",
       "      <td>[0.0, 1508.0, 2358.0, 4196.0, 1516.0, 2504.0, ...</td>\n",
       "      <td>0</td>\n",
       "      <td>0.0</td>\n",
       "      <td>7.491531</td>\n",
       "      <td>continuous</td>\n",
       "    </tr>\n",
       "    <tr>\n",
       "      <td>LoanAmount</td>\n",
       "      <td>float64</td>\n",
       "      <td>614</td>\n",
       "      <td>203</td>\n",
       "      <td>[128.0, 66.0, 120.0, 141.0, 267.0, 95.0, 158.0...</td>\n",
       "      <td>0</td>\n",
       "      <td>0.0</td>\n",
       "      <td>2.743053</td>\n",
       "      <td>continuous</td>\n",
       "    </tr>\n",
       "    <tr>\n",
       "      <td>Loan_Amount_Term</td>\n",
       "      <td>float64</td>\n",
       "      <td>614</td>\n",
       "      <td>10</td>\n",
       "      <td>[360.0, 120.0, 240.0, 180.0, 60.0, 300.0, 480....</td>\n",
       "      <td>0</td>\n",
       "      <td>0.0</td>\n",
       "      <td>-2.402112</td>\n",
       "      <td>continuous</td>\n",
       "    </tr>\n",
       "    <tr>\n",
       "      <td>Credit_History</td>\n",
       "      <td>object</td>\n",
       "      <td>614</td>\n",
       "      <td>2</td>\n",
       "      <td>[Good, Bad]</td>\n",
       "      <td>0</td>\n",
       "      <td>0.0</td>\n",
       "      <td>NaN</td>\n",
       "      <td>categorical</td>\n",
       "    </tr>\n",
       "    <tr>\n",
       "      <td>Property_Area</td>\n",
       "      <td>object</td>\n",
       "      <td>614</td>\n",
       "      <td>3</td>\n",
       "      <td>[Urban, Rural, Semiurban]</td>\n",
       "      <td>0</td>\n",
       "      <td>0.0</td>\n",
       "      <td>NaN</td>\n",
       "      <td>categorical</td>\n",
       "    </tr>\n",
       "    <tr>\n",
       "      <td>Loan_Status</td>\n",
       "      <td>object</td>\n",
       "      <td>614</td>\n",
       "      <td>2</td>\n",
       "      <td>[Y, N]</td>\n",
       "      <td>0</td>\n",
       "      <td>0.0</td>\n",
       "      <td>NaN</td>\n",
       "      <td>categorical</td>\n",
       "    </tr>\n",
       "  </tbody>\n",
       "</table>\n",
       "</div>"
      ],
      "text/plain": [
       "                     types  total_count  distincts  \\\n",
       "Gender              object          614          2   \n",
       "Married             object          614          2   \n",
       "Dependents          object          614          4   \n",
       "Education           object          614          2   \n",
       "Self_Employed       object          614          2   \n",
       "ApplicantIncome      int64          614        505   \n",
       "CoapplicantIncome  float64          614        287   \n",
       "LoanAmount         float64          614        203   \n",
       "Loan_Amount_Term   float64          614         10   \n",
       "Credit_History      object          614          2   \n",
       "Property_Area       object          614          3   \n",
       "Loan_Status         object          614          2   \n",
       "\n",
       "                                                             uniques  \\\n",
       "Gender                                                [Male, Female]   \n",
       "Married                                                    [No, Yes]   \n",
       "Dependents                                             [0, 1, 2, 3+]   \n",
       "Education                                   [Graduate, Not Graduate]   \n",
       "Self_Employed                                              [No, Yes]   \n",
       "ApplicantIncome    [5849, 4583, 3000, 2583, 6000, 5417, 2333, 303...   \n",
       "CoapplicantIncome  [0.0, 1508.0, 2358.0, 4196.0, 1516.0, 2504.0, ...   \n",
       "LoanAmount         [128.0, 66.0, 120.0, 141.0, 267.0, 95.0, 158.0...   \n",
       "Loan_Amount_Term   [360.0, 120.0, 240.0, 180.0, 60.0, 300.0, 480....   \n",
       "Credit_History                                           [Good, Bad]   \n",
       "Property_Area                              [Urban, Rural, Semiurban]   \n",
       "Loan_Status                                                   [Y, N]   \n",
       "\n",
       "                   null_count  null_percentage  skewness feature_type  \n",
       "Gender                      0              0.0       NaN  categorical  \n",
       "Married                     0              0.0       NaN  categorical  \n",
       "Dependents                  0              0.0       NaN  categorical  \n",
       "Education                   0              0.0       NaN  categorical  \n",
       "Self_Employed               0              0.0       NaN  categorical  \n",
       "ApplicantIncome             0              0.0  6.539513   continuous  \n",
       "CoapplicantIncome           0              0.0  7.491531   continuous  \n",
       "LoanAmount                  0              0.0  2.743053   continuous  \n",
       "Loan_Amount_Term            0              0.0 -2.402112   continuous  \n",
       "Credit_History              0              0.0       NaN  categorical  \n",
       "Property_Area               0              0.0       NaN  categorical  \n",
       "Loan_Status                 0              0.0       NaN  categorical  "
      ]
     },
     "execution_count": 20,
     "metadata": {},
     "output_type": "execute_result"
    }
   ],
   "source": [
    "custom_table(train_df)"
   ]
  },
  {
   "cell_type": "code",
   "execution_count": 21,
   "metadata": {},
   "outputs": [
    {
     "data": {
      "text/html": [
       "<div>\n",
       "<style scoped>\n",
       "    .dataframe tbody tr th:only-of-type {\n",
       "        vertical-align: middle;\n",
       "    }\n",
       "\n",
       "    .dataframe tbody tr th {\n",
       "        vertical-align: top;\n",
       "    }\n",
       "\n",
       "    .dataframe thead th {\n",
       "        text-align: right;\n",
       "    }\n",
       "</style>\n",
       "<table border=\"1\" class=\"dataframe\">\n",
       "  <thead>\n",
       "    <tr style=\"text-align: right;\">\n",
       "      <th></th>\n",
       "      <th>types</th>\n",
       "      <th>total_count</th>\n",
       "      <th>distincts</th>\n",
       "      <th>uniques</th>\n",
       "      <th>null_count</th>\n",
       "      <th>null_percentage</th>\n",
       "      <th>skewness</th>\n",
       "      <th>feature_type</th>\n",
       "    </tr>\n",
       "  </thead>\n",
       "  <tbody>\n",
       "    <tr>\n",
       "      <td>Gender</td>\n",
       "      <td>object</td>\n",
       "      <td>367</td>\n",
       "      <td>2</td>\n",
       "      <td>[Male, Female]</td>\n",
       "      <td>0</td>\n",
       "      <td>0.0</td>\n",
       "      <td>NaN</td>\n",
       "      <td>categorical</td>\n",
       "    </tr>\n",
       "    <tr>\n",
       "      <td>Married</td>\n",
       "      <td>object</td>\n",
       "      <td>367</td>\n",
       "      <td>2</td>\n",
       "      <td>[Yes, No]</td>\n",
       "      <td>0</td>\n",
       "      <td>0.0</td>\n",
       "      <td>NaN</td>\n",
       "      <td>categorical</td>\n",
       "    </tr>\n",
       "    <tr>\n",
       "      <td>Dependents</td>\n",
       "      <td>object</td>\n",
       "      <td>367</td>\n",
       "      <td>4</td>\n",
       "      <td>[0, 1, 2, 3+]</td>\n",
       "      <td>0</td>\n",
       "      <td>0.0</td>\n",
       "      <td>NaN</td>\n",
       "      <td>categorical</td>\n",
       "    </tr>\n",
       "    <tr>\n",
       "      <td>Education</td>\n",
       "      <td>object</td>\n",
       "      <td>367</td>\n",
       "      <td>2</td>\n",
       "      <td>[Graduate, Not Graduate]</td>\n",
       "      <td>0</td>\n",
       "      <td>0.0</td>\n",
       "      <td>NaN</td>\n",
       "      <td>categorical</td>\n",
       "    </tr>\n",
       "    <tr>\n",
       "      <td>Self_Employed</td>\n",
       "      <td>object</td>\n",
       "      <td>367</td>\n",
       "      <td>2</td>\n",
       "      <td>[No, Yes]</td>\n",
       "      <td>0</td>\n",
       "      <td>0.0</td>\n",
       "      <td>NaN</td>\n",
       "      <td>categorical</td>\n",
       "    </tr>\n",
       "    <tr>\n",
       "      <td>ApplicantIncome</td>\n",
       "      <td>int64</td>\n",
       "      <td>367</td>\n",
       "      <td>314</td>\n",
       "      <td>[5720, 3076, 5000, 2340, 3276, 2165, 2226, 388...</td>\n",
       "      <td>0</td>\n",
       "      <td>0.0</td>\n",
       "      <td>8.441375</td>\n",
       "      <td>continuous</td>\n",
       "    </tr>\n",
       "    <tr>\n",
       "      <td>CoapplicantIncome</td>\n",
       "      <td>int64</td>\n",
       "      <td>367</td>\n",
       "      <td>194</td>\n",
       "      <td>[0, 1500, 1800, 2546, 3422, 2400, 1516, 2916, ...</td>\n",
       "      <td>0</td>\n",
       "      <td>0.0</td>\n",
       "      <td>4.257357</td>\n",
       "      <td>continuous</td>\n",
       "    </tr>\n",
       "    <tr>\n",
       "      <td>LoanAmount</td>\n",
       "      <td>float64</td>\n",
       "      <td>367</td>\n",
       "      <td>144</td>\n",
       "      <td>[110.0, 126.0, 208.0, 100.0, 78.0, 152.0, 59.0...</td>\n",
       "      <td>0</td>\n",
       "      <td>0.0</td>\n",
       "      <td>2.244601</td>\n",
       "      <td>continuous</td>\n",
       "    </tr>\n",
       "    <tr>\n",
       "      <td>Loan_Amount_Term</td>\n",
       "      <td>float64</td>\n",
       "      <td>367</td>\n",
       "      <td>12</td>\n",
       "      <td>[360.0, 240.0, 180.0, 60.0, 480.0, 84.0, 12.0,...</td>\n",
       "      <td>0</td>\n",
       "      <td>0.0</td>\n",
       "      <td>-2.709537</td>\n",
       "      <td>continuous</td>\n",
       "    </tr>\n",
       "    <tr>\n",
       "      <td>Credit_History</td>\n",
       "      <td>object</td>\n",
       "      <td>367</td>\n",
       "      <td>2</td>\n",
       "      <td>[Good, Bad]</td>\n",
       "      <td>0</td>\n",
       "      <td>0.0</td>\n",
       "      <td>NaN</td>\n",
       "      <td>categorical</td>\n",
       "    </tr>\n",
       "    <tr>\n",
       "      <td>Property_Area</td>\n",
       "      <td>object</td>\n",
       "      <td>367</td>\n",
       "      <td>3</td>\n",
       "      <td>[Urban, Semiurban, Rural]</td>\n",
       "      <td>0</td>\n",
       "      <td>0.0</td>\n",
       "      <td>NaN</td>\n",
       "      <td>categorical</td>\n",
       "    </tr>\n",
       "  </tbody>\n",
       "</table>\n",
       "</div>"
      ],
      "text/plain": [
       "                     types  total_count  distincts  \\\n",
       "Gender              object          367          2   \n",
       "Married             object          367          2   \n",
       "Dependents          object          367          4   \n",
       "Education           object          367          2   \n",
       "Self_Employed       object          367          2   \n",
       "ApplicantIncome      int64          367        314   \n",
       "CoapplicantIncome    int64          367        194   \n",
       "LoanAmount         float64          367        144   \n",
       "Loan_Amount_Term   float64          367         12   \n",
       "Credit_History      object          367          2   \n",
       "Property_Area       object          367          3   \n",
       "\n",
       "                                                             uniques  \\\n",
       "Gender                                                [Male, Female]   \n",
       "Married                                                    [Yes, No]   \n",
       "Dependents                                             [0, 1, 2, 3+]   \n",
       "Education                                   [Graduate, Not Graduate]   \n",
       "Self_Employed                                              [No, Yes]   \n",
       "ApplicantIncome    [5720, 3076, 5000, 2340, 3276, 2165, 2226, 388...   \n",
       "CoapplicantIncome  [0, 1500, 1800, 2546, 3422, 2400, 1516, 2916, ...   \n",
       "LoanAmount         [110.0, 126.0, 208.0, 100.0, 78.0, 152.0, 59.0...   \n",
       "Loan_Amount_Term   [360.0, 240.0, 180.0, 60.0, 480.0, 84.0, 12.0,...   \n",
       "Credit_History                                           [Good, Bad]   \n",
       "Property_Area                              [Urban, Semiurban, Rural]   \n",
       "\n",
       "                   null_count  null_percentage  skewness feature_type  \n",
       "Gender                      0              0.0       NaN  categorical  \n",
       "Married                     0              0.0       NaN  categorical  \n",
       "Dependents                  0              0.0       NaN  categorical  \n",
       "Education                   0              0.0       NaN  categorical  \n",
       "Self_Employed               0              0.0       NaN  categorical  \n",
       "ApplicantIncome             0              0.0  8.441375   continuous  \n",
       "CoapplicantIncome           0              0.0  4.257357   continuous  \n",
       "LoanAmount                  0              0.0  2.244601   continuous  \n",
       "Loan_Amount_Term            0              0.0 -2.709537   continuous  \n",
       "Credit_History              0              0.0       NaN  categorical  \n",
       "Property_Area               0              0.0       NaN  categorical  "
      ]
     },
     "execution_count": 21,
     "metadata": {},
     "output_type": "execute_result"
    }
   ],
   "source": [
    "custom_table(test_df)"
   ]
  },
  {
   "cell_type": "code",
   "execution_count": 22,
   "metadata": {},
   "outputs": [],
   "source": [
    "temp_train_df = train_df.copy()"
   ]
  },
  {
   "cell_type": "code",
   "execution_count": 23,
   "metadata": {},
   "outputs": [
    {
     "data": {
      "text/html": [
       "<div>\n",
       "<style scoped>\n",
       "    .dataframe tbody tr th:only-of-type {\n",
       "        vertical-align: middle;\n",
       "    }\n",
       "\n",
       "    .dataframe tbody tr th {\n",
       "        vertical-align: top;\n",
       "    }\n",
       "\n",
       "    .dataframe thead th {\n",
       "        text-align: right;\n",
       "    }\n",
       "</style>\n",
       "<table border=\"1\" class=\"dataframe\">\n",
       "  <thead>\n",
       "    <tr style=\"text-align: right;\">\n",
       "      <th></th>\n",
       "      <th>Gender</th>\n",
       "      <th>Married</th>\n",
       "      <th>Dependents</th>\n",
       "      <th>Education</th>\n",
       "      <th>Self_Employed</th>\n",
       "      <th>ApplicantIncome</th>\n",
       "      <th>CoapplicantIncome</th>\n",
       "      <th>LoanAmount</th>\n",
       "      <th>Loan_Amount_Term</th>\n",
       "      <th>Credit_History</th>\n",
       "      <th>Property_Area</th>\n",
       "      <th>Loan_Status</th>\n",
       "    </tr>\n",
       "  </thead>\n",
       "  <tbody>\n",
       "    <tr>\n",
       "      <td>0</td>\n",
       "      <td>Male</td>\n",
       "      <td>No</td>\n",
       "      <td>0</td>\n",
       "      <td>Graduate</td>\n",
       "      <td>No</td>\n",
       "      <td>5849</td>\n",
       "      <td>0.0</td>\n",
       "      <td>128.0</td>\n",
       "      <td>360.0</td>\n",
       "      <td>Good</td>\n",
       "      <td>Urban</td>\n",
       "      <td>Y</td>\n",
       "    </tr>\n",
       "    <tr>\n",
       "      <td>1</td>\n",
       "      <td>Male</td>\n",
       "      <td>Yes</td>\n",
       "      <td>1</td>\n",
       "      <td>Graduate</td>\n",
       "      <td>No</td>\n",
       "      <td>4583</td>\n",
       "      <td>1508.0</td>\n",
       "      <td>128.0</td>\n",
       "      <td>360.0</td>\n",
       "      <td>Good</td>\n",
       "      <td>Rural</td>\n",
       "      <td>N</td>\n",
       "    </tr>\n",
       "    <tr>\n",
       "      <td>2</td>\n",
       "      <td>Male</td>\n",
       "      <td>Yes</td>\n",
       "      <td>0</td>\n",
       "      <td>Graduate</td>\n",
       "      <td>Yes</td>\n",
       "      <td>3000</td>\n",
       "      <td>0.0</td>\n",
       "      <td>66.0</td>\n",
       "      <td>360.0</td>\n",
       "      <td>Good</td>\n",
       "      <td>Urban</td>\n",
       "      <td>Y</td>\n",
       "    </tr>\n",
       "    <tr>\n",
       "      <td>3</td>\n",
       "      <td>Male</td>\n",
       "      <td>Yes</td>\n",
       "      <td>0</td>\n",
       "      <td>Not Graduate</td>\n",
       "      <td>No</td>\n",
       "      <td>2583</td>\n",
       "      <td>2358.0</td>\n",
       "      <td>120.0</td>\n",
       "      <td>360.0</td>\n",
       "      <td>Good</td>\n",
       "      <td>Urban</td>\n",
       "      <td>Y</td>\n",
       "    </tr>\n",
       "    <tr>\n",
       "      <td>4</td>\n",
       "      <td>Male</td>\n",
       "      <td>No</td>\n",
       "      <td>0</td>\n",
       "      <td>Graduate</td>\n",
       "      <td>No</td>\n",
       "      <td>6000</td>\n",
       "      <td>0.0</td>\n",
       "      <td>141.0</td>\n",
       "      <td>360.0</td>\n",
       "      <td>Good</td>\n",
       "      <td>Urban</td>\n",
       "      <td>Y</td>\n",
       "    </tr>\n",
       "  </tbody>\n",
       "</table>\n",
       "</div>"
      ],
      "text/plain": [
       "  Gender Married Dependents     Education Self_Employed  ApplicantIncome  \\\n",
       "0   Male      No          0      Graduate            No             5849   \n",
       "1   Male     Yes          1      Graduate            No             4583   \n",
       "2   Male     Yes          0      Graduate           Yes             3000   \n",
       "3   Male     Yes          0  Not Graduate            No             2583   \n",
       "4   Male      No          0      Graduate            No             6000   \n",
       "\n",
       "   CoapplicantIncome  LoanAmount  Loan_Amount_Term Credit_History  \\\n",
       "0                0.0       128.0             360.0           Good   \n",
       "1             1508.0       128.0             360.0           Good   \n",
       "2                0.0        66.0             360.0           Good   \n",
       "3             2358.0       120.0             360.0           Good   \n",
       "4                0.0       141.0             360.0           Good   \n",
       "\n",
       "  Property_Area Loan_Status  \n",
       "0         Urban           Y  \n",
       "1         Rural           N  \n",
       "2         Urban           Y  \n",
       "3         Urban           Y  \n",
       "4         Urban           Y  "
      ]
     },
     "execution_count": 23,
     "metadata": {},
     "output_type": "execute_result"
    }
   ],
   "source": [
    "temp_train_df.head()"
   ]
  },
  {
   "cell_type": "markdown",
   "metadata": {},
   "source": [
    "# Categorical Variables"
   ]
  },
  {
   "cell_type": "code",
   "execution_count": 24,
   "metadata": {},
   "outputs": [],
   "source": [
    "# <-- Label Encode Categorical Variables -->\n",
    "\n",
    "for column in categorical_features:\n",
    "    l = LabelEncoder()\n",
    "    temp_train_df[column] = l.fit_transform(temp_train_df[column])"
   ]
  },
  {
   "cell_type": "code",
   "execution_count": 25,
   "metadata": {},
   "outputs": [],
   "source": [
    "temp_train_df = temp_train_df[categorical_features]"
   ]
  },
  {
   "cell_type": "code",
   "execution_count": 26,
   "metadata": {},
   "outputs": [
    {
     "name": "stdout",
     "output_type": "stream",
     "text": [
      "\n",
      "For <<-- Dependents -->\n",
      "Gender            0.313629\n",
      "Married           0.000005\n",
      "Education         0.602805\n",
      "Self_Employed     0.159554\n",
      "Credit_History    0.955121\n",
      "Property_Area     0.286656\n",
      "dtype: float64\n",
      "4.627292749169103e-06\n",
      "\n",
      "For <<-- Gender -->\n",
      "Married           1.033668e-07\n",
      "Education         3.202845e-01\n",
      "Self_Employed     9.903387e-01\n",
      "Credit_History    9.310624e-01\n",
      "Property_Area     6.220571e-01\n",
      "dtype: float64\n",
      "1.0336676344223253e-07\n",
      "\n",
      "For <<-- Married -->\n",
      "Education         0.787487\n",
      "Self_Employed     0.917539\n",
      "Credit_History    0.917812\n",
      "Property_Area     0.935061\n",
      "dtype: float64\n",
      "\n",
      "For <<-- Education -->\n",
      "Self_Employed     0.810728\n",
      "Credit_History    0.487127\n",
      "Property_Area     0.211708\n",
      "dtype: float64\n",
      "\n",
      "For <<-- Self_Employed -->\n",
      "Credit_History    0.988330\n",
      "Property_Area     0.554704\n",
      "dtype: float64\n",
      "\n",
      "For <<-- Credit_History -->\n",
      "Property_Area    0.970026\n",
      "dtype: float64\n"
     ]
    }
   ],
   "source": [
    "new_categorical_features = categorical_features[:-1]\n",
    "seen = list()\n",
    "\n",
    "for feature in new_categorical_features:\n",
    "    try:\n",
    "        x_features = [i for i in new_categorical_features if i != feature and i not in seen]\n",
    "        X = temp_train_df[x_features]\n",
    "\n",
    "        Y = temp_train_df[feature] # Dependent Feature\n",
    "\n",
    "        chi_scores, p_values = chi2(X=X, y=Y)\n",
    "\n",
    "        p_values = pd.Series(p_values,index = X.columns)\n",
    "\n",
    "        print()\n",
    "        print(f\"For <<-- {feature} -->\")\n",
    "        print(p_values)\n",
    "\n",
    "        for j in range (0, len(p_values)):\n",
    "            if (p_values[j] < 0.05):\n",
    "                print(p_values[j])\n",
    "\n",
    "        seen.append(feature)\n",
    "    except ValueError:\n",
    "        pass"
   ]
  },
  {
   "cell_type": "code",
   "execution_count": 27,
   "metadata": {},
   "outputs": [],
   "source": [
    "# Drop 'Dependents' and 'Gender' as they both are dependent on 'Marrige'\n",
    "\n",
    "train_df.drop(labels=['Dependents', 'Gender'], axis=1, inplace=True)\n",
    "test_df.drop(labels=['Dependents', 'Gender'], axis=1, inplace=True)"
   ]
  },
  {
   "cell_type": "markdown",
   "metadata": {},
   "source": [
    "# Continuous Variables"
   ]
  },
  {
   "cell_type": "markdown",
   "metadata": {},
   "source": [
    "## Correlation Marix"
   ]
  },
  {
   "cell_type": "code",
   "execution_count": 28,
   "metadata": {},
   "outputs": [],
   "source": [
    "corr_matrix = train_df.corr()"
   ]
  },
  {
   "cell_type": "code",
   "execution_count": 29,
   "metadata": {},
   "outputs": [
    {
     "data": {
      "text/plain": [
       "(4.0, 0.0)"
      ]
     },
     "execution_count": 29,
     "metadata": {},
     "output_type": "execute_result"
    },
    {
     "data": {
      "image/png": "[encoded data removed]",
      "text/plain": [
       "<Figure size 432x288 with 2 Axes>"
      ]
     },
     "metadata": {
      "needs_background": "light"
     },
     "output_type": "display_data"
    }
   ],
   "source": [
    "# Heatmap of corelation matrix\n",
    "ax = sns.heatmap(data=corr_matrix, annot=True)\n",
    "\n",
    "# below two lines are just to put the heat map or matrix properly \n",
    "bottom, top = ax.get_ylim()\n",
    "ax.set_ylim(bottom + 0.5, top - 0.5)"
   ]
  },
  {
   "cell_type": "markdown",
   "metadata": {},
   "source": [
    "## Pair Plot"
   ]
  },
  {
   "cell_type": "code",
   "execution_count": 30,
   "metadata": {},
   "outputs": [
    {
     "data": {
      "text/plain": [
       "<seaborn.axisgrid.PairGrid at 0x2345e3a8a48>"
      ]
     },
     "execution_count": 30,
     "metadata": {},
     "output_type": "execute_result"
    },
    {
     "data": {
      "image/png": "[encoded data removed]",
      "text/plain": [
       "<Figure size 720x720 with 20 Axes>"
      ]
     },
     "metadata": {
      "needs_background": "light"
     },
     "output_type": "display_data"
    }
   ],
   "source": [
    "# Train\n",
    "\n",
    "sns.pairplot(train_df)"
   ]
  },
  {
   "cell_type": "code",
   "execution_count": 31,
   "metadata": {},
   "outputs": [
    {
     "data": {
      "text/plain": [
       "<seaborn.axisgrid.PairGrid at 0x2345fce5088>"
      ]
     },
     "execution_count": 31,
     "metadata": {},
     "output_type": "execute_result"
    },
    {
     "data": {
      "image/png": "[encoded data removed]",
      "text/plain": [
       "<Figure size 720x720 with 20 Axes>"
      ]
     },
     "metadata": {
      "needs_background": "light"
     },
     "output_type": "display_data"
    }
   ],
   "source": [
    "# Test\n",
    "\n",
    "sns.pairplot(test_df)"
   ]
  },
  {
   "cell_type": "markdown",
   "metadata": {},
   "source": [
    "## Outliars Check "
   ]
  },
  {
   "cell_type": "code",
   "execution_count": 32,
   "metadata": {},
   "outputs": [],
   "source": [
    "# <<-- ApplicantIncome -->>"
   ]
  },
  {
   "cell_type": "code",
   "execution_count": 33,
   "metadata": {},
   "outputs": [
    {
     "data": {
      "text/plain": [
       "<matplotlib.axes._subplots.AxesSubplot at 0x234607e3b88>"
      ]
     },
     "execution_count": 33,
     "metadata": {},
     "output_type": "execute_result"
    },
    {
     "data": {
      "image/png": "[encoded data removed]",
      "text/plain": [
       "<Figure size 432x288 with 1 Axes>"
      ]
     },
     "metadata": {
      "needs_background": "light"
     },
     "output_type": "display_data"
    }
   ],
   "source": [
    "sns.scatterplot(x=train_df['ApplicantIncome'], y=train_df['Loan_Status'], palette='s')"
   ]
  },
  {
   "cell_type": "code",
   "execution_count": 34,
   "metadata": {},
   "outputs": [
    {
     "data": {
      "text/html": [
       "<div>\n",
       "<style scoped>\n",
       "    .dataframe tbody tr th:only-of-type {\n",
       "        vertical-align: middle;\n",
       "    }\n",
       "\n",
       "    .dataframe tbody tr th {\n",
       "        vertical-align: top;\n",
       "    }\n",
       "\n",
       "    .dataframe thead th {\n",
       "        text-align: right;\n",
       "    }\n",
       "</style>\n",
       "<table border=\"1\" class=\"dataframe\">\n",
       "  <thead>\n",
       "    <tr style=\"text-align: right;\">\n",
       "      <th></th>\n",
       "      <th>Married</th>\n",
       "      <th>Education</th>\n",
       "      <th>Self_Employed</th>\n",
       "      <th>ApplicantIncome</th>\n",
       "      <th>CoapplicantIncome</th>\n",
       "      <th>LoanAmount</th>\n",
       "      <th>Loan_Amount_Term</th>\n",
       "      <th>Credit_History</th>\n",
       "      <th>Property_Area</th>\n",
       "      <th>Loan_Status</th>\n",
       "    </tr>\n",
       "  </thead>\n",
       "  <tbody>\n",
       "    <tr>\n",
       "      <td>171</td>\n",
       "      <td>Yes</td>\n",
       "      <td>Graduate</td>\n",
       "      <td>No</td>\n",
       "      <td>51763</td>\n",
       "      <td>0.0</td>\n",
       "      <td>700.0</td>\n",
       "      <td>300.0</td>\n",
       "      <td>Good</td>\n",
       "      <td>Urban</td>\n",
       "      <td>Y</td>\n",
       "    </tr>\n",
       "    <tr>\n",
       "      <td>333</td>\n",
       "      <td>Yes</td>\n",
       "      <td>Graduate</td>\n",
       "      <td>No</td>\n",
       "      <td>63337</td>\n",
       "      <td>0.0</td>\n",
       "      <td>490.0</td>\n",
       "      <td>180.0</td>\n",
       "      <td>Good</td>\n",
       "      <td>Urban</td>\n",
       "      <td>Y</td>\n",
       "    </tr>\n",
       "    <tr>\n",
       "      <td>409</td>\n",
       "      <td>Yes</td>\n",
       "      <td>Graduate</td>\n",
       "      <td>No</td>\n",
       "      <td>81000</td>\n",
       "      <td>0.0</td>\n",
       "      <td>360.0</td>\n",
       "      <td>360.0</td>\n",
       "      <td>Bad</td>\n",
       "      <td>Rural</td>\n",
       "      <td>N</td>\n",
       "    </tr>\n",
       "  </tbody>\n",
       "</table>\n",
       "</div>"
      ],
      "text/plain": [
       "    Married Education Self_Employed  ApplicantIncome  CoapplicantIncome  \\\n",
       "171     Yes  Graduate            No            51763                0.0   \n",
       "333     Yes  Graduate            No            63337                0.0   \n",
       "409     Yes  Graduate            No            81000                0.0   \n",
       "\n",
       "     LoanAmount  Loan_Amount_Term Credit_History Property_Area Loan_Status  \n",
       "171       700.0             300.0           Good         Urban           Y  \n",
       "333       490.0             180.0           Good         Urban           Y  \n",
       "409       360.0             360.0            Bad         Rural           N  "
      ]
     },
     "execution_count": 34,
     "metadata": {},
     "output_type": "execute_result"
    }
   ],
   "source": [
    "train_df[train_df['ApplicantIncome'] > 40000]"
   ]
  },
  {
   "cell_type": "code",
   "execution_count": 35,
   "metadata": {},
   "outputs": [],
   "source": [
    "mask = (train_df['ApplicantIncome'] > 40000)\n",
    "train_df = train_df[~mask]"
   ]
  },
  {
   "cell_type": "code",
   "execution_count": 36,
   "metadata": {},
   "outputs": [
    {
     "data": {
      "text/plain": [
       "<matplotlib.axes._subplots.AxesSubplot at 0x2346083b4c8>"
      ]
     },
     "execution_count": 36,
     "metadata": {},
     "output_type": "execute_result"
    },
    {
     "data": {
      "image/png": "[encoded data removed]",
      "text/plain": [
       "<Figure size 432x288 with 1 Axes>"
      ]
     },
     "metadata": {
      "needs_background": "light"
     },
     "output_type": "display_data"
    }
   ],
   "source": [
    "sns.scatterplot(x=test_df['ApplicantIncome'], y=test_df['ApplicantIncome'])"
   ]
  },
  {
   "cell_type": "code",
   "execution_count": 37,
   "metadata": {},
   "outputs": [
    {
     "data": {
      "text/html": [
       "<div>\n",
       "<style scoped>\n",
       "    .dataframe tbody tr th:only-of-type {\n",
       "        vertical-align: middle;\n",
       "    }\n",
       "\n",
       "    .dataframe tbody tr th {\n",
       "        vertical-align: top;\n",
       "    }\n",
       "\n",
       "    .dataframe thead th {\n",
       "        text-align: right;\n",
       "    }\n",
       "</style>\n",
       "<table border=\"1\" class=\"dataframe\">\n",
       "  <thead>\n",
       "    <tr style=\"text-align: right;\">\n",
       "      <th></th>\n",
       "      <th>Married</th>\n",
       "      <th>Education</th>\n",
       "      <th>Self_Employed</th>\n",
       "      <th>ApplicantIncome</th>\n",
       "      <th>CoapplicantIncome</th>\n",
       "      <th>LoanAmount</th>\n",
       "      <th>Loan_Amount_Term</th>\n",
       "      <th>Credit_History</th>\n",
       "      <th>Property_Area</th>\n",
       "    </tr>\n",
       "  </thead>\n",
       "  <tbody>\n",
       "    <tr>\n",
       "      <td>81</td>\n",
       "      <td>Yes</td>\n",
       "      <td>Graduate</td>\n",
       "      <td>No</td>\n",
       "      <td>72529</td>\n",
       "      <td>0</td>\n",
       "      <td>360.0</td>\n",
       "      <td>360.0</td>\n",
       "      <td>Good</td>\n",
       "      <td>Urban</td>\n",
       "    </tr>\n",
       "  </tbody>\n",
       "</table>\n",
       "</div>"
      ],
      "text/plain": [
       "   Married Education Self_Employed  ApplicantIncome  CoapplicantIncome  \\\n",
       "81     Yes  Graduate            No            72529                  0   \n",
       "\n",
       "    LoanAmount  Loan_Amount_Term Credit_History Property_Area  \n",
       "81       360.0             360.0           Good         Urban  "
      ]
     },
     "execution_count": 37,
     "metadata": {},
     "output_type": "execute_result"
    }
   ],
   "source": [
    "test_df[test_df['ApplicantIncome'] > 40000]"
   ]
  },
  {
   "cell_type": "code",
   "execution_count": 38,
   "metadata": {},
   "outputs": [
    {
     "name": "stdout",
     "output_type": "stream",
     "text": [
      "Skewness:  3.8683494203272786\n",
      "Skewness:  8.441374954190996\n"
     ]
    },
    {
     "data": {
      "image/png": "[encoded data removed]",
      "text/plain": [
       "<Figure size 432x288 with 1 Axes>"
      ]
     },
     "metadata": {
      "needs_background": "light"
     },
     "output_type": "display_data"
    }
   ],
   "source": [
    "train_df['ApplicantIncome'].hist()\n",
    "print('Skewness: ', train_df['ApplicantIncome'].skew())\n",
    "\n",
    "test_df['ApplicantIncome'].hist(alpha=0.3, color='red')\n",
    "print('Skewness: ', test_df['ApplicantIncome'].skew())"
   ]
  },
  {
   "cell_type": "code",
   "execution_count": 39,
   "metadata": {},
   "outputs": [],
   "source": [
    "# train_df['ApplicantIncome'].replace({0:0.1}, inplace=True)\n",
    "# test_df['ApplicantIncome'].replace({0:0.1}, inplace=True)"
   ]
  },
  {
   "cell_type": "code",
   "execution_count": 40,
   "metadata": {},
   "outputs": [],
   "source": [
    "# BoxCox 'ApplicantIncome'\n",
    "\n",
    "# box_cox_ApplicantIncome_train = boxcox(x=train_df['ApplicantIncome'])[0]\n",
    "# sns.distplot(box_cox_ApplicantIncome_train)\n",
    "# print('Skewness: ', pd.Series(box_cox_ApplicantIncome_train).skew())\n",
    "\n",
    "# box_cox_ApplicantIncome_test = boxcox(x=test_df['ApplicantIncome'])[0]\n",
    "# sns.distplot(box_cox_ApplicantIncome_test)\n",
    "# print('Skewness: ', pd.Series(box_cox_ApplicantIncome_test).skew())"
   ]
  },
  {
   "cell_type": "code",
   "execution_count": 41,
   "metadata": {},
   "outputs": [],
   "source": [
    "# train_df['ApplicantIncome'] = box_cox_ApplicantIncome_train\n",
    "# test_df['ApplicantIncome'] = box_cox_ApplicantIncome_test"
   ]
  },
  {
   "cell_type": "code",
   "execution_count": 42,
   "metadata": {},
   "outputs": [],
   "source": [
    "# <<-- CoApplicantIncome -->>"
   ]
  },
  {
   "cell_type": "code",
   "execution_count": 43,
   "metadata": {},
   "outputs": [
    {
     "data": {
      "text/plain": [
       "<matplotlib.axes._subplots.AxesSubplot at 0x23460b49b88>"
      ]
     },
     "execution_count": 43,
     "metadata": {},
     "output_type": "execute_result"
    },
    {
     "data": {
      "image/png": "[encoded data removed]",
      "text/plain": [
       "<Figure size 432x288 with 1 Axes>"
      ]
     },
     "metadata": {
      "needs_background": "light"
     },
     "output_type": "display_data"
    }
   ],
   "source": [
    "sns.scatterplot(x=train_df['CoapplicantIncome'], y=train_df['Loan_Status'], palette='s')"
   ]
  },
  {
   "cell_type": "code",
   "execution_count": 44,
   "metadata": {},
   "outputs": [
    {
     "data": {
      "text/html": [
       "<div>\n",
       "<style scoped>\n",
       "    .dataframe tbody tr th:only-of-type {\n",
       "        vertical-align: middle;\n",
       "    }\n",
       "\n",
       "    .dataframe tbody tr th {\n",
       "        vertical-align: top;\n",
       "    }\n",
       "\n",
       "    .dataframe thead th {\n",
       "        text-align: right;\n",
       "    }\n",
       "</style>\n",
       "<table border=\"1\" class=\"dataframe\">\n",
       "  <thead>\n",
       "    <tr style=\"text-align: right;\">\n",
       "      <th></th>\n",
       "      <th>Married</th>\n",
       "      <th>Education</th>\n",
       "      <th>Self_Employed</th>\n",
       "      <th>ApplicantIncome</th>\n",
       "      <th>CoapplicantIncome</th>\n",
       "      <th>LoanAmount</th>\n",
       "      <th>Loan_Amount_Term</th>\n",
       "      <th>Credit_History</th>\n",
       "      <th>Property_Area</th>\n",
       "      <th>Loan_Status</th>\n",
       "    </tr>\n",
       "  </thead>\n",
       "  <tbody>\n",
       "    <tr>\n",
       "      <td>581</td>\n",
       "      <td>No</td>\n",
       "      <td>Graduate</td>\n",
       "      <td>No</td>\n",
       "      <td>1836</td>\n",
       "      <td>33837.0</td>\n",
       "      <td>90.0</td>\n",
       "      <td>360.0</td>\n",
       "      <td>Good</td>\n",
       "      <td>Urban</td>\n",
       "      <td>N</td>\n",
       "    </tr>\n",
       "    <tr>\n",
       "      <td>600</td>\n",
       "      <td>No</td>\n",
       "      <td>Graduate</td>\n",
       "      <td>No</td>\n",
       "      <td>416</td>\n",
       "      <td>41667.0</td>\n",
       "      <td>350.0</td>\n",
       "      <td>180.0</td>\n",
       "      <td>Good</td>\n",
       "      <td>Urban</td>\n",
       "      <td>N</td>\n",
       "    </tr>\n",
       "  </tbody>\n",
       "</table>\n",
       "</div>"
      ],
      "text/plain": [
       "    Married Education Self_Employed  ApplicantIncome  CoapplicantIncome  \\\n",
       "581      No  Graduate            No             1836            33837.0   \n",
       "600      No  Graduate            No              416            41667.0   \n",
       "\n",
       "     LoanAmount  Loan_Amount_Term Credit_History Property_Area Loan_Status  \n",
       "581        90.0             360.0           Good         Urban           N  \n",
       "600       350.0             180.0           Good         Urban           N  "
      ]
     },
     "execution_count": 44,
     "metadata": {},
     "output_type": "execute_result"
    }
   ],
   "source": [
    "train_df[train_df['CoapplicantIncome'] > 20000]"
   ]
  },
  {
   "cell_type": "code",
   "execution_count": 45,
   "metadata": {},
   "outputs": [],
   "source": [
    "# Drop above 2 rows\n",
    "\n",
    "train_df.drop(labels=[581, 600], axis=0, inplace=True)"
   ]
  },
  {
   "cell_type": "code",
   "execution_count": 46,
   "metadata": {},
   "outputs": [
    {
     "data": {
      "text/plain": [
       "<matplotlib.axes._subplots.AxesSubplot at 0x23460bac148>"
      ]
     },
     "execution_count": 46,
     "metadata": {},
     "output_type": "execute_result"
    },
    {
     "data": {
      "image/png": "[encoded data removed]",
      "text/plain": [
       "<Figure size 432x288 with 1 Axes>"
      ]
     },
     "metadata": {
      "needs_background": "light"
     },
     "output_type": "display_data"
    }
   ],
   "source": [
    "sns.scatterplot(x=test_df['CoapplicantIncome'], y=test_df['CoapplicantIncome'], palette='s')"
   ]
  },
  {
   "cell_type": "code",
   "execution_count": 47,
   "metadata": {},
   "outputs": [
    {
     "data": {
      "text/html": [
       "<div>\n",
       "<style scoped>\n",
       "    .dataframe tbody tr th:only-of-type {\n",
       "        vertical-align: middle;\n",
       "    }\n",
       "\n",
       "    .dataframe tbody tr th {\n",
       "        vertical-align: top;\n",
       "    }\n",
       "\n",
       "    .dataframe thead th {\n",
       "        text-align: right;\n",
       "    }\n",
       "</style>\n",
       "<table border=\"1\" class=\"dataframe\">\n",
       "  <thead>\n",
       "    <tr style=\"text-align: right;\">\n",
       "      <th></th>\n",
       "      <th>Married</th>\n",
       "      <th>Education</th>\n",
       "      <th>Self_Employed</th>\n",
       "      <th>ApplicantIncome</th>\n",
       "      <th>CoapplicantIncome</th>\n",
       "      <th>LoanAmount</th>\n",
       "      <th>Loan_Amount_Term</th>\n",
       "      <th>Credit_History</th>\n",
       "      <th>Property_Area</th>\n",
       "    </tr>\n",
       "  </thead>\n",
       "  <tbody>\n",
       "    <tr>\n",
       "      <td>25</td>\n",
       "      <td>No</td>\n",
       "      <td>Graduate</td>\n",
       "      <td>No</td>\n",
       "      <td>0</td>\n",
       "      <td>24000</td>\n",
       "      <td>148.0</td>\n",
       "      <td>360.0</td>\n",
       "      <td>Bad</td>\n",
       "      <td>Rural</td>\n",
       "    </tr>\n",
       "  </tbody>\n",
       "</table>\n",
       "</div>"
      ],
      "text/plain": [
       "   Married Education Self_Employed  ApplicantIncome  CoapplicantIncome  \\\n",
       "25      No  Graduate            No                0              24000   \n",
       "\n",
       "    LoanAmount  Loan_Amount_Term Credit_History Property_Area  \n",
       "25       148.0             360.0            Bad         Rural  "
      ]
     },
     "execution_count": 47,
     "metadata": {},
     "output_type": "execute_result"
    }
   ],
   "source": [
    "test_df[test_df['CoapplicantIncome'] > 20000]"
   ]
  },
  {
   "cell_type": "code",
   "execution_count": 48,
   "metadata": {},
   "outputs": [
    {
     "name": "stdout",
     "output_type": "stream",
     "text": [
      "Skewness:  7.482912597869652\n",
      "Skewness:  4.257356934477602\n"
     ]
    },
    {
     "data": {
      "image/png": "[encoded data removed]",
      "text/plain": [
       "<Figure size 432x288 with 1 Axes>"
      ]
     },
     "metadata": {
      "needs_background": "light"
     },
     "output_type": "display_data"
    }
   ],
   "source": [
    "train_df['CoapplicantIncome'].hist()\n",
    "print('Skewness: ', train_df['CoapplicantIncome'].skew())\n",
    "\n",
    "test_df['CoapplicantIncome'].hist(alpha=0.3, color='red')\n",
    "print('Skewness: ', test_df['CoapplicantIncome'].skew())"
   ]
  },
  {
   "cell_type": "code",
   "execution_count": 49,
   "metadata": {},
   "outputs": [],
   "source": [
    "# train_df['CoapplicantIncome'].replace({0:0.1}, inplace=True)\n",
    "# test_df['CoapplicantIncome'].replace({0:0.1}, inplace=True)"
   ]
  },
  {
   "cell_type": "code",
   "execution_count": 50,
   "metadata": {},
   "outputs": [],
   "source": [
    "# BoxCox 'CoapplicantIncome'\n",
    "\n",
    "# box_cox_CoapplicantIncome_train = boxcox(x=train_df['CoapplicantIncome'])[0]\n",
    "# sns.distplot(box_cox_CoapplicantIncome_train)\n",
    "# print('Skewness: ', pd.Series(box_cox_CoapplicantIncome_train).skew())\n",
    "\n",
    "# box_cox_CoapplicantIncome_test = boxcox(x=test_df['CoapplicantIncome'])[0]\n",
    "# sns.distplot(box_cox_CoapplicantIncome_test)\n",
    "# print('Skewness: ', pd.Series(box_cox_CoapplicantIncome_test).skew())"
   ]
  },
  {
   "cell_type": "code",
   "execution_count": 51,
   "metadata": {},
   "outputs": [],
   "source": [
    "# train_df['CoapplicantIncome'] = box_cox_CoapplicantIncome_train\n",
    "# test_df['CoapplicantIncome'] = box_cox_CoapplicantIncome_test"
   ]
  },
  {
   "cell_type": "code",
   "execution_count": 52,
   "metadata": {},
   "outputs": [],
   "source": [
    "# <-- LoanAmount --> "
   ]
  },
  {
   "cell_type": "code",
   "execution_count": 53,
   "metadata": {},
   "outputs": [
    {
     "data": {
      "text/plain": [
       "<matplotlib.axes._subplots.AxesSubplot at 0x23460caab88>"
      ]
     },
     "execution_count": 53,
     "metadata": {},
     "output_type": "execute_result"
    },
    {
     "data": {
      "image/png": "[encoded data removed]",
      "text/plain": [
       "<Figure size 432x288 with 1 Axes>"
      ]
     },
     "metadata": {
      "needs_background": "light"
     },
     "output_type": "display_data"
    }
   ],
   "source": [
    "sns.scatterplot(x=train_df['LoanAmount'], y=train_df['Loan_Status'], palette='s')"
   ]
  },
  {
   "cell_type": "code",
   "execution_count": 54,
   "metadata": {},
   "outputs": [
    {
     "data": {
      "text/plain": [
       "<matplotlib.axes._subplots.AxesSubplot at 0x23460d0da08>"
      ]
     },
     "execution_count": 54,
     "metadata": {},
     "output_type": "execute_result"
    },
    {
     "data": {
      "image/png": "[encoded data removed]",
      "text/plain": [
       "<Figure size 432x288 with 1 Axes>"
      ]
     },
     "metadata": {
      "needs_background": "light"
     },
     "output_type": "display_data"
    }
   ],
   "source": [
    "sns.scatterplot(x=test_df['LoanAmount'], y=test_df['LoanAmount'], palette='s')"
   ]
  },
  {
   "cell_type": "code",
   "execution_count": 55,
   "metadata": {},
   "outputs": [
    {
     "data": {
      "text/html": [
       "<div>\n",
       "<style scoped>\n",
       "    .dataframe tbody tr th:only-of-type {\n",
       "        vertical-align: middle;\n",
       "    }\n",
       "\n",
       "    .dataframe tbody tr th {\n",
       "        vertical-align: top;\n",
       "    }\n",
       "\n",
       "    .dataframe thead th {\n",
       "        text-align: right;\n",
       "    }\n",
       "</style>\n",
       "<table border=\"1\" class=\"dataframe\">\n",
       "  <thead>\n",
       "    <tr style=\"text-align: right;\">\n",
       "      <th></th>\n",
       "      <th>Married</th>\n",
       "      <th>Education</th>\n",
       "      <th>Self_Employed</th>\n",
       "      <th>ApplicantIncome</th>\n",
       "      <th>CoapplicantIncome</th>\n",
       "      <th>LoanAmount</th>\n",
       "      <th>Loan_Amount_Term</th>\n",
       "      <th>Credit_History</th>\n",
       "      <th>Property_Area</th>\n",
       "      <th>Loan_Status</th>\n",
       "    </tr>\n",
       "  </thead>\n",
       "  <tbody>\n",
       "    <tr>\n",
       "      <td>130</td>\n",
       "      <td>No</td>\n",
       "      <td>Graduate</td>\n",
       "      <td>Yes</td>\n",
       "      <td>20166</td>\n",
       "      <td>0.0</td>\n",
       "      <td>650.0</td>\n",
       "      <td>480.0</td>\n",
       "      <td>Good</td>\n",
       "      <td>Urban</td>\n",
       "      <td>Y</td>\n",
       "    </tr>\n",
       "    <tr>\n",
       "      <td>155</td>\n",
       "      <td>Yes</td>\n",
       "      <td>Graduate</td>\n",
       "      <td>No</td>\n",
       "      <td>39999</td>\n",
       "      <td>0.0</td>\n",
       "      <td>600.0</td>\n",
       "      <td>180.0</td>\n",
       "      <td>Bad</td>\n",
       "      <td>Semiurban</td>\n",
       "      <td>Y</td>\n",
       "    </tr>\n",
       "    <tr>\n",
       "      <td>369</td>\n",
       "      <td>Yes</td>\n",
       "      <td>Graduate</td>\n",
       "      <td>No</td>\n",
       "      <td>19730</td>\n",
       "      <td>5266.0</td>\n",
       "      <td>570.0</td>\n",
       "      <td>360.0</td>\n",
       "      <td>Good</td>\n",
       "      <td>Rural</td>\n",
       "      <td>N</td>\n",
       "    </tr>\n",
       "    <tr>\n",
       "      <td>561</td>\n",
       "      <td>Yes</td>\n",
       "      <td>Graduate</td>\n",
       "      <td>Yes</td>\n",
       "      <td>19484</td>\n",
       "      <td>0.0</td>\n",
       "      <td>600.0</td>\n",
       "      <td>360.0</td>\n",
       "      <td>Good</td>\n",
       "      <td>Semiurban</td>\n",
       "      <td>Y</td>\n",
       "    </tr>\n",
       "  </tbody>\n",
       "</table>\n",
       "</div>"
      ],
      "text/plain": [
       "    Married Education Self_Employed  ApplicantIncome  CoapplicantIncome  \\\n",
       "130      No  Graduate           Yes            20166                0.0   \n",
       "155     Yes  Graduate            No            39999                0.0   \n",
       "369     Yes  Graduate            No            19730             5266.0   \n",
       "561     Yes  Graduate           Yes            19484                0.0   \n",
       "\n",
       "     LoanAmount  Loan_Amount_Term Credit_History Property_Area Loan_Status  \n",
       "130       650.0             480.0           Good         Urban           Y  \n",
       "155       600.0             180.0            Bad     Semiurban           Y  \n",
       "369       570.0             360.0           Good         Rural           N  \n",
       "561       600.0             360.0           Good     Semiurban           Y  "
      ]
     },
     "execution_count": 55,
     "metadata": {},
     "output_type": "execute_result"
    }
   ],
   "source": [
    "train_df[train_df['LoanAmount'] > 500]"
   ]
  },
  {
   "cell_type": "code",
   "execution_count": 56,
   "metadata": {},
   "outputs": [
    {
     "data": {
      "text/html": [
       "<div>\n",
       "<style scoped>\n",
       "    .dataframe tbody tr th:only-of-type {\n",
       "        vertical-align: middle;\n",
       "    }\n",
       "\n",
       "    .dataframe tbody tr th {\n",
       "        vertical-align: top;\n",
       "    }\n",
       "\n",
       "    .dataframe thead th {\n",
       "        text-align: right;\n",
       "    }\n",
       "</style>\n",
       "<table border=\"1\" class=\"dataframe\">\n",
       "  <thead>\n",
       "    <tr style=\"text-align: right;\">\n",
       "      <th></th>\n",
       "      <th>Married</th>\n",
       "      <th>Education</th>\n",
       "      <th>Self_Employed</th>\n",
       "      <th>ApplicantIncome</th>\n",
       "      <th>CoapplicantIncome</th>\n",
       "      <th>LoanAmount</th>\n",
       "      <th>Loan_Amount_Term</th>\n",
       "      <th>Credit_History</th>\n",
       "      <th>Property_Area</th>\n",
       "    </tr>\n",
       "  </thead>\n",
       "  <tbody>\n",
       "    <tr>\n",
       "      <td>143</td>\n",
       "      <td>Yes</td>\n",
       "      <td>Graduate</td>\n",
       "      <td>Yes</td>\n",
       "      <td>32000</td>\n",
       "      <td>0</td>\n",
       "      <td>550.0</td>\n",
       "      <td>360.0</td>\n",
       "      <td>Good</td>\n",
       "      <td>Semiurban</td>\n",
       "    </tr>\n",
       "  </tbody>\n",
       "</table>\n",
       "</div>"
      ],
      "text/plain": [
       "    Married Education Self_Employed  ApplicantIncome  CoapplicantIncome  \\\n",
       "143     Yes  Graduate           Yes            32000                  0   \n",
       "\n",
       "     LoanAmount  Loan_Amount_Term Credit_History Property_Area  \n",
       "143       550.0             360.0           Good     Semiurban  "
      ]
     },
     "execution_count": 56,
     "metadata": {},
     "output_type": "execute_result"
    }
   ],
   "source": [
    "test_df[test_df['LoanAmount'] > 500]"
   ]
  },
  {
   "cell_type": "code",
   "execution_count": 57,
   "metadata": {},
   "outputs": [
    {
     "name": "stdout",
     "output_type": "stream",
     "text": [
      "Skewness:  2.6026998587440104\n",
      "Skewness:  2.244600521260248\n"
     ]
    },
    {
     "data": {
      "image/png": "[encoded data removed]",
      "text/plain": [
       "<Figure size 432x288 with 1 Axes>"
      ]
     },
     "metadata": {
      "needs_background": "light"
     },
     "output_type": "display_data"
    }
   ],
   "source": [
    "train_df['LoanAmount'].hist()\n",
    "print('Skewness: ', train_df['LoanAmount'].skew())\n",
    "\n",
    "test_df['LoanAmount'].hist(alpha=0.3, color='red')\n",
    "print('Skewness: ', test_df['LoanAmount'].skew())"
   ]
  },
  {
   "cell_type": "code",
   "execution_count": 58,
   "metadata": {},
   "outputs": [],
   "source": [
    "# BoxCox 'LoanAmount'\n",
    "\n",
    "# box_cox_LoanAmount_train = boxcox(x=train_df['LoanAmount'])[0]\n",
    "# sns.distplot(box_cox_LoanAmount_train)\n",
    "# print('Skewness: ', pd.Series(box_cox_LoanAmount_train).skew())\n",
    "\n",
    "# box_cox_LoanAmount_test = boxcox(x=test_df['LoanAmount'])[0]\n",
    "# sns.distplot(box_cox_LoanAmount_test)\n",
    "# print('Skewness: ', pd.Series(box_cox_LoanAmount_test).skew())"
   ]
  },
  {
   "cell_type": "code",
   "execution_count": 59,
   "metadata": {},
   "outputs": [],
   "source": [
    "# train_df['LoanAmount'] = box_cox_LoanAmount_train\n",
    "# test_df['LoanAmount'] = box_cox_LoanAmount_test"
   ]
  },
  {
   "cell_type": "code",
   "execution_count": 60,
   "metadata": {},
   "outputs": [],
   "source": [
    "# <-- f test -->"
   ]
  },
  {
   "cell_type": "code",
   "execution_count": 61,
   "metadata": {},
   "outputs": [],
   "source": [
    "temp_train_df = train_df[continuous_features]"
   ]
  },
  {
   "cell_type": "code",
   "execution_count": 62,
   "metadata": {},
   "outputs": [],
   "source": [
    "le = LabelEncoder()\n",
    "Y = le.fit_transform(train_df['Loan_Status'])"
   ]
  },
  {
   "cell_type": "code",
   "execution_count": 63,
   "metadata": {},
   "outputs": [
    {
     "name": "stdout",
     "output_type": "stream",
     "text": [
      "\n",
      "For <<-- Loan_Amount_Term -->\n",
      "ApplicantIncome      0.976395\n",
      "CoapplicantIncome    0.367127\n",
      "LoanAmount           0.503293\n",
      "dtype: float64\n",
      "\n",
      "For <<-- ApplicantIncome -->\n",
      "CoapplicantIncome    0.010031\n",
      "LoanAmount           0.000005\n",
      "dtype: float64\n",
      "0.010030837499440472\n",
      "4.528299766106924e-06\n",
      "\n",
      "For <<-- CoapplicantIncome -->\n",
      "LoanAmount    0.998094\n",
      "dtype: float64\n"
     ]
    }
   ],
   "source": [
    "new_continuous_features = continuous_features\n",
    "seen = list()\n",
    "\n",
    "for feature in new_continuous_features:\n",
    "    try:\n",
    "        x_features = [i for i in new_continuous_features if i != feature and i not in seen]\n",
    "        X = temp_train_df[x_features]\n",
    "\n",
    "        Y = temp_train_df[feature] # Dependent Feature\n",
    "\n",
    "        chi_scores, p_values = f_classif(X=X, y=Y)\n",
    "\n",
    "        p_values = pd.Series(p_values,index = X.columns)\n",
    "\n",
    "        print()\n",
    "        print(f\"For <<-- {feature} -->\")\n",
    "        print(p_values)\n",
    "\n",
    "        for j in range (0, len(p_values)):\n",
    "            if (p_values[j] < 0.05):\n",
    "                print(p_values[j])\n",
    "\n",
    "        seen.append(feature)\n",
    "    except ValueError:\n",
    "        pass"
   ]
  },
  {
   "cell_type": "code",
   "execution_count": 64,
   "metadata": {},
   "outputs": [],
   "source": [
    "# Drop 'LoanAmount' as it is correlated with 'ApplicantIncome' and 'Loan_Amount_Term'\n",
    " \n",
    "train_df.drop(labels= 'LoanAmount', axis=1, inplace=True)\n",
    "test_df.drop(labels= 'LoanAmount', axis=1, inplace=True)\n",
    "\n",
    "continuous_features.remove('LoanAmount')"
   ]
  },
  {
   "cell_type": "code",
   "execution_count": 65,
   "metadata": {},
   "outputs": [
    {
     "data": {
      "text/html": [
       "<div>\n",
       "<style scoped>\n",
       "    .dataframe tbody tr th:only-of-type {\n",
       "        vertical-align: middle;\n",
       "    }\n",
       "\n",
       "    .dataframe tbody tr th {\n",
       "        vertical-align: top;\n",
       "    }\n",
       "\n",
       "    .dataframe thead th {\n",
       "        text-align: right;\n",
       "    }\n",
       "</style>\n",
       "<table border=\"1\" class=\"dataframe\">\n",
       "  <thead>\n",
       "    <tr style=\"text-align: right;\">\n",
       "      <th></th>\n",
       "      <th>ApplicantIncome</th>\n",
       "      <th>CoapplicantIncome</th>\n",
       "      <th>Loan_Amount_Term</th>\n",
       "    </tr>\n",
       "  </thead>\n",
       "  <tbody>\n",
       "    <tr>\n",
       "      <td>count</td>\n",
       "      <td>611.000000</td>\n",
       "      <td>611.000000</td>\n",
       "      <td>611.000000</td>\n",
       "    </tr>\n",
       "    <tr>\n",
       "      <td>mean</td>\n",
       "      <td>5109.040917</td>\n",
       "      <td>1629.206088</td>\n",
       "      <td>342.716858</td>\n",
       "    </tr>\n",
       "    <tr>\n",
       "      <td>std</td>\n",
       "      <td>4361.549063</td>\n",
       "      <td>2931.220236</td>\n",
       "      <td>64.223611</td>\n",
       "    </tr>\n",
       "    <tr>\n",
       "      <td>min</td>\n",
       "      <td>150.000000</td>\n",
       "      <td>0.000000</td>\n",
       "      <td>12.000000</td>\n",
       "    </tr>\n",
       "    <tr>\n",
       "      <td>25%</td>\n",
       "      <td>2875.500000</td>\n",
       "      <td>0.000000</td>\n",
       "      <td>360.000000</td>\n",
       "    </tr>\n",
       "    <tr>\n",
       "      <td>50%</td>\n",
       "      <td>3800.000000</td>\n",
       "      <td>1213.000000</td>\n",
       "      <td>360.000000</td>\n",
       "    </tr>\n",
       "    <tr>\n",
       "      <td>75%</td>\n",
       "      <td>5746.000000</td>\n",
       "      <td>2304.000000</td>\n",
       "      <td>360.000000</td>\n",
       "    </tr>\n",
       "    <tr>\n",
       "      <td>max</td>\n",
       "      <td>39999.000000</td>\n",
       "      <td>41667.000000</td>\n",
       "      <td>480.000000</td>\n",
       "    </tr>\n",
       "  </tbody>\n",
       "</table>\n",
       "</div>"
      ],
      "text/plain": [
       "       ApplicantIncome  CoapplicantIncome  Loan_Amount_Term\n",
       "count       611.000000         611.000000        611.000000\n",
       "mean       5109.040917        1629.206088        342.716858\n",
       "std        4361.549063        2931.220236         64.223611\n",
       "min         150.000000           0.000000         12.000000\n",
       "25%        2875.500000           0.000000        360.000000\n",
       "50%        3800.000000        1213.000000        360.000000\n",
       "75%        5746.000000        2304.000000        360.000000\n",
       "max       39999.000000       41667.000000        480.000000"
      ]
     },
     "execution_count": 65,
     "metadata": {},
     "output_type": "execute_result"
    }
   ],
   "source": [
    "train_df.describe()"
   ]
  },
  {
   "cell_type": "code",
   "execution_count": 66,
   "metadata": {},
   "outputs": [
    {
     "data": {
      "text/html": [
       "<div>\n",
       "<style scoped>\n",
       "    .dataframe tbody tr th:only-of-type {\n",
       "        vertical-align: middle;\n",
       "    }\n",
       "\n",
       "    .dataframe tbody tr th {\n",
       "        vertical-align: top;\n",
       "    }\n",
       "\n",
       "    .dataframe thead th {\n",
       "        text-align: right;\n",
       "    }\n",
       "</style>\n",
       "<table border=\"1\" class=\"dataframe\">\n",
       "  <thead>\n",
       "    <tr style=\"text-align: right;\">\n",
       "      <th></th>\n",
       "      <th>ApplicantIncome</th>\n",
       "      <th>CoapplicantIncome</th>\n",
       "      <th>Loan_Amount_Term</th>\n",
       "    </tr>\n",
       "  </thead>\n",
       "  <tbody>\n",
       "    <tr>\n",
       "      <td>count</td>\n",
       "      <td>367.000000</td>\n",
       "      <td>367.000000</td>\n",
       "      <td>367.000000</td>\n",
       "    </tr>\n",
       "    <tr>\n",
       "      <td>mean</td>\n",
       "      <td>4805.599455</td>\n",
       "      <td>1569.577657</td>\n",
       "      <td>342.822888</td>\n",
       "    </tr>\n",
       "    <tr>\n",
       "      <td>std</td>\n",
       "      <td>4910.685399</td>\n",
       "      <td>2334.232099</td>\n",
       "      <td>64.658402</td>\n",
       "    </tr>\n",
       "    <tr>\n",
       "      <td>min</td>\n",
       "      <td>0.000000</td>\n",
       "      <td>0.000000</td>\n",
       "      <td>6.000000</td>\n",
       "    </tr>\n",
       "    <tr>\n",
       "      <td>25%</td>\n",
       "      <td>2864.000000</td>\n",
       "      <td>0.000000</td>\n",
       "      <td>360.000000</td>\n",
       "    </tr>\n",
       "    <tr>\n",
       "      <td>50%</td>\n",
       "      <td>3786.000000</td>\n",
       "      <td>1025.000000</td>\n",
       "      <td>360.000000</td>\n",
       "    </tr>\n",
       "    <tr>\n",
       "      <td>75%</td>\n",
       "      <td>5060.000000</td>\n",
       "      <td>2430.500000</td>\n",
       "      <td>360.000000</td>\n",
       "    </tr>\n",
       "    <tr>\n",
       "      <td>max</td>\n",
       "      <td>72529.000000</td>\n",
       "      <td>24000.000000</td>\n",
       "      <td>480.000000</td>\n",
       "    </tr>\n",
       "  </tbody>\n",
       "</table>\n",
       "</div>"
      ],
      "text/plain": [
       "       ApplicantIncome  CoapplicantIncome  Loan_Amount_Term\n",
       "count       367.000000         367.000000        367.000000\n",
       "mean       4805.599455        1569.577657        342.822888\n",
       "std        4910.685399        2334.232099         64.658402\n",
       "min           0.000000           0.000000          6.000000\n",
       "25%        2864.000000           0.000000        360.000000\n",
       "50%        3786.000000        1025.000000        360.000000\n",
       "75%        5060.000000        2430.500000        360.000000\n",
       "max       72529.000000       24000.000000        480.000000"
      ]
     },
     "execution_count": 66,
     "metadata": {},
     "output_type": "execute_result"
    }
   ],
   "source": [
    "test_df.describe()"
   ]
  },
  {
   "cell_type": "markdown",
   "metadata": {},
   "source": [
    "## Scale Continuous Data (for KNN and SVM)"
   ]
  },
  {
   "cell_type": "code",
   "execution_count": 67,
   "metadata": {},
   "outputs": [],
   "source": [
    "temp_train = train_df.copy()\n",
    "temp_test = test_df.copy()"
   ]
  },
  {
   "cell_type": "code",
   "execution_count": 68,
   "metadata": {},
   "outputs": [],
   "source": [
    "ss = StandardScaler()\n",
    "\n",
    "ss.fit(temp_train[continuous_features])\n",
    "temp_train[continuous_features] = ss.transform(temp_train[continuous_features])\n",
    "temp_test[continuous_features] = ss.transform(temp_test[continuous_features])"
   ]
  },
  {
   "cell_type": "code",
   "execution_count": 69,
   "metadata": {},
   "outputs": [
    {
     "data": {
      "text/html": [
       "<div>\n",
       "<style scoped>\n",
       "    .dataframe tbody tr th:only-of-type {\n",
       "        vertical-align: middle;\n",
       "    }\n",
       "\n",
       "    .dataframe tbody tr th {\n",
       "        vertical-align: top;\n",
       "    }\n",
       "\n",
       "    .dataframe thead th {\n",
       "        text-align: right;\n",
       "    }\n",
       "</style>\n",
       "<table border=\"1\" class=\"dataframe\">\n",
       "  <thead>\n",
       "    <tr style=\"text-align: right;\">\n",
       "      <th></th>\n",
       "      <th>Married</th>\n",
       "      <th>Education</th>\n",
       "      <th>Self_Employed</th>\n",
       "      <th>ApplicantIncome</th>\n",
       "      <th>CoapplicantIncome</th>\n",
       "      <th>Loan_Amount_Term</th>\n",
       "      <th>Credit_History</th>\n",
       "      <th>Property_Area</th>\n",
       "      <th>Loan_Status</th>\n",
       "    </tr>\n",
       "  </thead>\n",
       "  <tbody>\n",
       "    <tr>\n",
       "      <td>0</td>\n",
       "      <td>No</td>\n",
       "      <td>Graduate</td>\n",
       "      <td>No</td>\n",
       "      <td>0.169794</td>\n",
       "      <td>-0.556267</td>\n",
       "      <td>0.269329</td>\n",
       "      <td>Good</td>\n",
       "      <td>Urban</td>\n",
       "      <td>Y</td>\n",
       "    </tr>\n",
       "    <tr>\n",
       "      <td>1</td>\n",
       "      <td>Yes</td>\n",
       "      <td>Graduate</td>\n",
       "      <td>No</td>\n",
       "      <td>-0.120708</td>\n",
       "      <td>-0.041384</td>\n",
       "      <td>0.269329</td>\n",
       "      <td>Good</td>\n",
       "      <td>Rural</td>\n",
       "      <td>N</td>\n",
       "    </tr>\n",
       "    <tr>\n",
       "      <td>2</td>\n",
       "      <td>Yes</td>\n",
       "      <td>Graduate</td>\n",
       "      <td>Yes</td>\n",
       "      <td>-0.483949</td>\n",
       "      <td>-0.556267</td>\n",
       "      <td>0.269329</td>\n",
       "      <td>Good</td>\n",
       "      <td>Urban</td>\n",
       "      <td>Y</td>\n",
       "    </tr>\n",
       "    <tr>\n",
       "      <td>3</td>\n",
       "      <td>Yes</td>\n",
       "      <td>Not Graduate</td>\n",
       "      <td>No</td>\n",
       "      <td>-0.579636</td>\n",
       "      <td>0.248835</td>\n",
       "      <td>0.269329</td>\n",
       "      <td>Good</td>\n",
       "      <td>Urban</td>\n",
       "      <td>Y</td>\n",
       "    </tr>\n",
       "    <tr>\n",
       "      <td>4</td>\n",
       "      <td>No</td>\n",
       "      <td>Graduate</td>\n",
       "      <td>No</td>\n",
       "      <td>0.204443</td>\n",
       "      <td>-0.556267</td>\n",
       "      <td>0.269329</td>\n",
       "      <td>Good</td>\n",
       "      <td>Urban</td>\n",
       "      <td>Y</td>\n",
       "    </tr>\n",
       "  </tbody>\n",
       "</table>\n",
       "</div>"
      ],
      "text/plain": [
       "  Married     Education Self_Employed  ApplicantIncome  CoapplicantIncome  \\\n",
       "0      No      Graduate            No         0.169794          -0.556267   \n",
       "1     Yes      Graduate            No        -0.120708          -0.041384   \n",
       "2     Yes      Graduate           Yes        -0.483949          -0.556267   \n",
       "3     Yes  Not Graduate            No        -0.579636           0.248835   \n",
       "4      No      Graduate            No         0.204443          -0.556267   \n",
       "\n",
       "   Loan_Amount_Term Credit_History Property_Area Loan_Status  \n",
       "0          0.269329           Good         Urban           Y  \n",
       "1          0.269329           Good         Rural           N  \n",
       "2          0.269329           Good         Urban           Y  \n",
       "3          0.269329           Good         Urban           Y  \n",
       "4          0.269329           Good         Urban           Y  "
      ]
     },
     "execution_count": 69,
     "metadata": {},
     "output_type": "execute_result"
    }
   ],
   "source": [
    "temp_train.head()"
   ]
  },
  {
   "cell_type": "code",
   "execution_count": 70,
   "metadata": {},
   "outputs": [
    {
     "data": {
      "text/html": [
       "<div>\n",
       "<style scoped>\n",
       "    .dataframe tbody tr th:only-of-type {\n",
       "        vertical-align: middle;\n",
       "    }\n",
       "\n",
       "    .dataframe tbody tr th {\n",
       "        vertical-align: top;\n",
       "    }\n",
       "\n",
       "    .dataframe thead th {\n",
       "        text-align: right;\n",
       "    }\n",
       "</style>\n",
       "<table border=\"1\" class=\"dataframe\">\n",
       "  <thead>\n",
       "    <tr style=\"text-align: right;\">\n",
       "      <th></th>\n",
       "      <th>Married</th>\n",
       "      <th>Education</th>\n",
       "      <th>Self_Employed</th>\n",
       "      <th>ApplicantIncome</th>\n",
       "      <th>CoapplicantIncome</th>\n",
       "      <th>Loan_Amount_Term</th>\n",
       "      <th>Credit_History</th>\n",
       "      <th>Property_Area</th>\n",
       "    </tr>\n",
       "  </thead>\n",
       "  <tbody>\n",
       "    <tr>\n",
       "      <td>0</td>\n",
       "      <td>Yes</td>\n",
       "      <td>Graduate</td>\n",
       "      <td>No</td>\n",
       "      <td>0.140193</td>\n",
       "      <td>-0.556267</td>\n",
       "      <td>0.269329</td>\n",
       "      <td>Good</td>\n",
       "      <td>Urban</td>\n",
       "    </tr>\n",
       "    <tr>\n",
       "      <td>1</td>\n",
       "      <td>Yes</td>\n",
       "      <td>Graduate</td>\n",
       "      <td>No</td>\n",
       "      <td>-0.466510</td>\n",
       "      <td>-0.044115</td>\n",
       "      <td>0.269329</td>\n",
       "      <td>Good</td>\n",
       "      <td>Urban</td>\n",
       "    </tr>\n",
       "    <tr>\n",
       "      <td>2</td>\n",
       "      <td>Yes</td>\n",
       "      <td>Graduate</td>\n",
       "      <td>No</td>\n",
       "      <td>-0.025021</td>\n",
       "      <td>0.058315</td>\n",
       "      <td>0.269329</td>\n",
       "      <td>Good</td>\n",
       "      <td>Urban</td>\n",
       "    </tr>\n",
       "    <tr>\n",
       "      <td>3</td>\n",
       "      <td>Yes</td>\n",
       "      <td>Graduate</td>\n",
       "      <td>No</td>\n",
       "      <td>-0.635396</td>\n",
       "      <td>0.313025</td>\n",
       "      <td>0.269329</td>\n",
       "      <td>Good</td>\n",
       "      <td>Urban</td>\n",
       "    </tr>\n",
       "    <tr>\n",
       "      <td>4</td>\n",
       "      <td>No</td>\n",
       "      <td>Not Graduate</td>\n",
       "      <td>No</td>\n",
       "      <td>-0.420617</td>\n",
       "      <td>-0.556267</td>\n",
       "      <td>0.269329</td>\n",
       "      <td>Good</td>\n",
       "      <td>Urban</td>\n",
       "    </tr>\n",
       "  </tbody>\n",
       "</table>\n",
       "</div>"
      ],
      "text/plain": [
       "  Married     Education Self_Employed  ApplicantIncome  CoapplicantIncome  \\\n",
       "0     Yes      Graduate            No         0.140193          -0.556267   \n",
       "1     Yes      Graduate            No        -0.466510          -0.044115   \n",
       "2     Yes      Graduate            No        -0.025021           0.058315   \n",
       "3     Yes      Graduate            No        -0.635396           0.313025   \n",
       "4      No  Not Graduate            No        -0.420617          -0.556267   \n",
       "\n",
       "   Loan_Amount_Term Credit_History Property_Area  \n",
       "0          0.269329           Good         Urban  \n",
       "1          0.269329           Good         Urban  \n",
       "2          0.269329           Good         Urban  \n",
       "3          0.269329           Good         Urban  \n",
       "4          0.269329           Good         Urban  "
      ]
     },
     "execution_count": 70,
     "metadata": {},
     "output_type": "execute_result"
    }
   ],
   "source": [
    "temp_test.head()"
   ]
  },
  {
   "cell_type": "markdown",
   "metadata": {},
   "source": [
    "## Encode categorical variables"
   ]
  },
  {
   "cell_type": "code",
   "execution_count": 71,
   "metadata": {},
   "outputs": [],
   "source": [
    "train_df = pd.get_dummies(data=train_df, drop_first=True)\n",
    "test_df = pd.get_dummies(data=test_df, drop_first=True)\n",
    "\n",
    "temp_train = pd.get_dummies(data=temp_train, drop_first=True)\n",
    "temp_test = pd.get_dummies(data=temp_test, drop_first=True)"
   ]
  },
  {
   "cell_type": "code",
   "execution_count": 72,
   "metadata": {},
   "outputs": [
    {
     "name": "stdout",
     "output_type": "stream",
     "text": [
      "(611, 10)\n",
      "(611, 10)\n"
     ]
    }
   ],
   "source": [
    "print(train_df.shape)\n",
    "print(temp_train.shape)"
   ]
  },
  {
   "cell_type": "code",
   "execution_count": 73,
   "metadata": {},
   "outputs": [
    {
     "name": "stdout",
     "output_type": "stream",
     "text": [
      "(367, 9)\n",
      "(367, 9)\n"
     ]
    }
   ],
   "source": [
    "print(test_df.shape)\n",
    "print(temp_test.shape)"
   ]
  },
  {
   "cell_type": "markdown",
   "metadata": {},
   "source": [
    "## Independent and Dependent variables"
   ]
  },
  {
   "cell_type": "code",
   "execution_count": 74,
   "metadata": {},
   "outputs": [],
   "source": [
    "X = train_df.iloc[:, :-1]\n",
    "Y = train_df['Loan_Status_Y']\n",
    "\n",
    "temp_train_X = temp_train.iloc[:, :-1]\n",
    "temp_train_Y = temp_train['Loan_Status_Y']"
   ]
  },
  {
   "cell_type": "code",
   "execution_count": 75,
   "metadata": {},
   "outputs": [
    {
     "name": "stdout",
     "output_type": "stream",
     "text": [
      "(611, 9)\n",
      "(611, 9)\n"
     ]
    }
   ],
   "source": [
    "print(X.shape)\n",
    "print(temp_train_X.shape)"
   ]
  },
  {
   "cell_type": "code",
   "execution_count": 76,
   "metadata": {},
   "outputs": [
    {
     "name": "stdout",
     "output_type": "stream",
     "text": [
      "(367, 9)\n",
      "(367, 9)\n"
     ]
    }
   ],
   "source": [
    "print(test_df.shape)\n",
    "print(temp_test.shape)"
   ]
  },
  {
   "cell_type": "markdown",
   "metadata": {},
   "source": [
    "# Model Making"
   ]
  },
  {
   "cell_type": "markdown",
   "metadata": {},
   "source": [
    "## 1. Logistic Regression"
   ]
  },
  {
   "cell_type": "code",
   "execution_count": 77,
   "metadata": {},
   "outputs": [
    {
     "data": {
      "text/plain": [
       "LogisticRegression(C=1.0, class_weight=None, dual=False, fit_intercept=True,\n",
       "                   intercept_scaling=1, l1_ratio=None, max_iter=100,\n",
       "                   multi_class='warn', n_jobs=None, penalty='l2',\n",
       "                   random_state=None, solver='warn', tol=0.0001, verbose=0,\n",
       "                   warm_start=False)"
      ]
     },
     "execution_count": 77,
     "metadata": {},
     "output_type": "execute_result"
    }
   ],
   "source": [
    "logistic = LogisticRegression()\n",
    "logistic.fit(X, Y)"
   ]
  },
  {
   "cell_type": "code",
   "execution_count": 78,
   "metadata": {},
   "outputs": [
    {
     "name": "stdout",
     "output_type": "stream",
     "text": [
      "Average Accuracy: 80.69 %\n",
      "Standard Deviation: 2.78 %\n"
     ]
    }
   ],
   "source": [
    "# <<--- K fold cross validation --->> Before Parameter Tuning\n",
    "accuracies = cross_val_score(estimator = logistic, scoring='accuracy', X = X, y = Y, cv = 5) \n",
    "\n",
    "print(\"Average Accuracy: {:.2f} %\".format(accuracies.mean()*100))\n",
    "print(\"Standard Deviation: {:.2f} %\".format(accuracies.std()*100))"
   ]
  },
  {
   "cell_type": "code",
   "execution_count": 79,
   "metadata": {},
   "outputs": [],
   "source": [
    "parameters = { 'penalty' : ['l1', 'l2'],\n",
    "                'C' : np.logspace(-4, 4, 20),\n",
    "                'solver' : ['liblinear', 'warn']\n",
    "                }"
   ]
  },
  {
   "cell_type": "code",
   "execution_count": 80,
   "metadata": {},
   "outputs": [
    {
     "name": "stdout",
     "output_type": "stream",
     "text": [
      "Best Accuracy: 80.85 %\n",
      "Best Parameters: {'solver': 'liblinear', 'penalty': 'l1', 'C': 0.23357214690901212}\n"
     ]
    }
   ],
   "source": [
    "# <<-- Check the best Logistic Regression Model by parameter tuning -->>\n",
    "\n",
    "random_search = RandomizedSearchCV(estimator = logistic,\n",
    "                           param_distributions  = parameters,\n",
    "                           scoring = 'accuracy', \n",
    "                           cv = 5,\n",
    "                           n_jobs=1)\n",
    "\n",
    "random_search = random_search.fit(X, Y)\n",
    "\n",
    "best_accuracy = random_search.best_score_   \n",
    "best_parameters = random_search.best_params_  \n",
    "\n",
    "print(\"Best Accuracy: {:.2f} %\".format(best_accuracy*100))\n",
    "print(\"Best Parameters:\", best_parameters)"
   ]
  },
  {
   "cell_type": "code",
   "execution_count": 82,
   "metadata": {},
   "outputs": [],
   "source": [
    "final_logistic = LogisticRegression(solver= 'liblinear', penalty= 'l1', C=0.23357214690901212)"
   ]
  },
  {
   "cell_type": "code",
   "execution_count": 83,
   "metadata": {},
   "outputs": [
    {
     "name": "stdout",
     "output_type": "stream",
     "text": [
      "Average Accuracy: 80.85 %\n",
      "Standard Deviation: 3.31 %\n"
     ]
    }
   ],
   "source": [
    "# <<--- K fold cross validation --->> After Parameter Tuning\n",
    "accuracies = cross_val_score(estimator = final_logistic, scoring='accuracy', X = X, y = Y, cv = 5) \n",
    "\n",
    "print(\"Average Accuracy: {:.2f} %\".format(accuracies.mean()*100))\n",
    "print(\"Standard Deviation: {:.2f} %\".format(accuracies.std()*100))"
   ]
  },
  {
   "cell_type": "markdown",
   "metadata": {},
   "source": [
    "## 2. KNN"
   ]
  },
  {
   "cell_type": "code",
   "execution_count": 84,
   "metadata": {},
   "outputs": [
    {
     "data": {
      "text/plain": [
       "Text(0.5, 1.0, 'Elbow plot')"
      ]
     },
     "execution_count": 84,
     "metadata": {},
     "output_type": "execute_result"
    },
    {
     "data": {
      "image/png": "[encoded data removed]",
      "text/plain": [
       "<Figure size 720x504 with 1 Axes>"
      ]
     },
     "metadata": {
      "needs_background": "light"
     },
     "output_type": "display_data"
    }
   ],
   "source": [
    "wcss = []  # list of wcss of kmeans model from k 1 to 10\n",
    "K = []  # list of k (number of clusters) of kmeans model from k 1 to 10\n",
    "\n",
    "for k in range(0, 20):  # here we will make 10 clusters from 1 to 10\n",
    "    try:\n",
    "        kmeans = KMeans(n_clusters=k, init='k-means++') \n",
    "        kmeans.fit(temp_train_X)  \n",
    "\n",
    "        K.append(k)\n",
    "        wcss.append(kmeans.inertia_)  # kmeans.inertia_ returns us the wcss value\n",
    "\n",
    "    except OverflowError:  \n",
    "        continue\n",
    "\n",
    "plt.figure(figsize=(10, 7))  \n",
    "        \n",
    "plt.plot(K, wcss, marker='o')\n",
    "plt.xlabel('K')\n",
    "plt.ylabel('WCSS')\n",
    "plt.title('Elbow plot')"
   ]
  },
  {
   "cell_type": "code",
   "execution_count": 85,
   "metadata": {},
   "outputs": [
    {
     "data": {
      "text/plain": [
       "KNeighborsClassifier(algorithm='auto', leaf_size=30, metric='minkowski',\n",
       "                     metric_params=None, n_jobs=None, n_neighbors=5, p=2,\n",
       "                     weights='uniform')"
      ]
     },
     "execution_count": 85,
     "metadata": {},
     "output_type": "execute_result"
    }
   ],
   "source": [
    "knn_classifier = KNeighborsClassifier()\n",
    "knn_classifier.fit(temp_train_X, temp_train_Y)"
   ]
  },
  {
   "cell_type": "code",
   "execution_count": 86,
   "metadata": {},
   "outputs": [
    {
     "name": "stdout",
     "output_type": "stream",
     "text": [
      "Average Accuracy: 78.39 %\n",
      "Standard Deviation: 4.45 %\n"
     ]
    }
   ],
   "source": [
    "# <<--- K fold cross validation --->> Before Parameter Tuning\n",
    "accuracies = cross_val_score(estimator = knn_classifier, scoring='accuracy', X = temp_train_X, y = temp_train_Y, cv = 5) \n",
    "\n",
    "print(\"Average Accuracy: {:.2f} %\".format(accuracies.mean()*100))\n",
    "print(\"Standard Deviation: {:.2f} %\".format(accuracies.std()*100))"
   ]
  },
  {
   "cell_type": "code",
   "execution_count": 87,
   "metadata": {},
   "outputs": [],
   "source": [
    "parameters = { 'n_neighbors':list(range(1, 20, 1)),\n",
    "    'weights': ['uniform', 'distance'],\n",
    "    'algorithm': ['auto', 'ball_tree', 'kd_tree', 'brute'],\n",
    "    'leaf_size': list(range(10, 100, 10))\n",
    "                }"
   ]
  },
  {
   "cell_type": "code",
   "execution_count": 88,
   "metadata": {},
   "outputs": [
    {
     "name": "stdout",
     "output_type": "stream",
     "text": [
      "Best Accuracy: 78.07 %\n",
      "Best Parameters: {'weights': 'uniform', 'n_neighbors': 12, 'leaf_size': 40, 'algorithm': 'kd_tree'}\n"
     ]
    }
   ],
   "source": [
    "# <<-- Check the best KNN Model by parameter tuning -->>\n",
    "\n",
    "random_search = RandomizedSearchCV(estimator = knn_classifier,\n",
    "                           param_distributions = parameters,\n",
    "                           scoring = 'accuracy', \n",
    "                           cv = 5,\n",
    "                           n_jobs=1)\n",
    "\n",
    "random_search = random_search.fit(temp_train_X, temp_train_Y)\n",
    "\n",
    "best_accuracy = random_search.best_score_   \n",
    "best_parameters = random_search.best_params_  \n",
    "\n",
    "print(\"Best Accuracy: {:.2f} %\".format(best_accuracy*100))\n",
    "print(\"Best Parameters:\", best_parameters)"
   ]
  },
  {
   "cell_type": "code",
   "execution_count": 89,
   "metadata": {},
   "outputs": [],
   "source": [
    "final_knn_classifier = KNeighborsClassifier(weights= 'uniform', n_neighbors= 12, leaf_size= 40, algorithm= 'kd_tree')"
   ]
  },
  {
   "cell_type": "code",
   "execution_count": 90,
   "metadata": {},
   "outputs": [
    {
     "name": "stdout",
     "output_type": "stream",
     "text": [
      "Average Accuracy: 78.06 %\n",
      "Standard Deviation: 3.85 %\n"
     ]
    }
   ],
   "source": [
    "# <<--- K fold cross validation --->> Before Parameter Tuning\n",
    "accuracies = cross_val_score(estimator = final_knn_classifier, scoring='accuracy', X = temp_train_X, y = temp_train_Y, cv = 5) \n",
    "\n",
    "print(\"Average Accuracy: {:.2f} %\".format(accuracies.mean()*100))\n",
    "print(\"Standard Deviation: {:.2f} %\".format(accuracies.std()*100))"
   ]
  },
  {
   "cell_type": "markdown",
   "metadata": {},
   "source": [
    "## 3. SVM"
   ]
  },
  {
   "cell_type": "code",
   "execution_count": 91,
   "metadata": {},
   "outputs": [
    {
     "data": {
      "text/plain": [
       "SVC(C=1.0, cache_size=200, class_weight=None, coef0=0.0,\n",
       "    decision_function_shape='ovr', degree=3, gamma='auto_deprecated',\n",
       "    kernel='rbf', max_iter=-1, probability=False, random_state=None,\n",
       "    shrinking=True, tol=0.001, verbose=False)"
      ]
     },
     "execution_count": 91,
     "metadata": {},
     "output_type": "execute_result"
    }
   ],
   "source": [
    "svm_classifier = SVC(kernel = 'rbf')\n",
    "svm_classifier.fit(temp_train_X, temp_train_Y)"
   ]
  },
  {
   "cell_type": "code",
   "execution_count": 92,
   "metadata": {},
   "outputs": [
    {
     "name": "stdout",
     "output_type": "stream",
     "text": [
      "Average Accuracy: 80.85 %\n",
      "Standard Deviation: 2.82 %\n"
     ]
    }
   ],
   "source": [
    "# <<--- K fold cross validation --->> Before Parameter Tuning\n",
    "accuracies = cross_val_score(estimator = svm_classifier, scoring='accuracy', X = temp_train_X, y = temp_train_Y, cv = 5) \n",
    "\n",
    "print(\"Average Accuracy: {:.2f} %\".format(accuracies.mean()*100))\n",
    "print(\"Standard Deviation: {:.2f} %\".format(accuracies.std()*100))"
   ]
  },
  {
   "cell_type": "code",
   "execution_count": 93,
   "metadata": {},
   "outputs": [],
   "source": [
    "parameters = [{'C': [1, 10, 100, 1000], 'kernel': ['linear']},\n",
    "              {'C': [1, 10, 100, 1000], 'kernel': ['rbf'], 'gamma': [0.1, 0.2, 0.3, 0.4, 0.5, 0.6, 0.7, 0.8, 0.9]}]"
   ]
  },
  {
   "cell_type": "code",
   "execution_count": null,
   "metadata": {},
   "outputs": [],
   "source": [
    "# <<-- Check the best SVM Model by parameter tuning -->>\n",
    "\n",
    "random_search = GridSearchCV(estimator = svm_classifier,\n",
    "                           param_grid = parameters,\n",
    "                           scoring = 'accuracy', \n",
    "                           cv = 5,\n",
    "                           n_jobs=1)\n",
    "\n",
    "random_search = random_search.fit(temp_train_X, temp_train_Y)\n",
    "\n",
    "best_accuracy = random_search.best_score_   \n",
    "best_parameters = random_search.best_params_  \n",
    "\n",
    "print(\"Best Accuracy: {:.2f} %\".format(best_accuracy*100))\n",
    "print(\"Best Parameters:\", best_parameters)"
   ]
  },
  {
   "cell_type": "code",
   "execution_count": 94,
   "metadata": {},
   "outputs": [],
   "source": [
    "final_svm_classifier = SVC(kernel= 'rbf', C= 1, gamma=0.1)"
   ]
  },
  {
   "cell_type": "code",
   "execution_count": 95,
   "metadata": {},
   "outputs": [
    {
     "name": "stdout",
     "output_type": "stream",
     "text": [
      "Average Accuracy: 80.85 %\n",
      "Standard Deviation: 2.82 %\n"
     ]
    }
   ],
   "source": [
    "# <<--- K fold cross validation --->> After Parameter Tuning\n",
    "accuracies = cross_val_score(estimator = final_svm_classifier, scoring='accuracy', X = temp_train_X, y = temp_train_Y, cv = 5) \n",
    "\n",
    "print(\"Average Accuracy: {:.2f} %\".format(accuracies.mean()*100))\n",
    "print(\"Standard Deviation: {:.2f} %\".format(accuracies.std()*100))"
   ]
  },
  {
   "cell_type": "markdown",
   "metadata": {},
   "source": [
    "## 4. Random Forest"
   ]
  },
  {
   "cell_type": "code",
   "execution_count": 96,
   "metadata": {},
   "outputs": [
    {
     "data": {
      "text/plain": [
       "RandomForestClassifier(bootstrap=True, class_weight=None, criterion='gini',\n",
       "                       max_depth=None, max_features='auto', max_leaf_nodes=None,\n",
       "                       min_impurity_decrease=0.0, min_impurity_split=None,\n",
       "                       min_samples_leaf=1, min_samples_split=2,\n",
       "                       min_weight_fraction_leaf=0.0, n_estimators=10,\n",
       "                       n_jobs=None, oob_score=False, random_state=None,\n",
       "                       verbose=0, warm_start=False)"
      ]
     },
     "execution_count": 96,
     "metadata": {},
     "output_type": "execute_result"
    }
   ],
   "source": [
    "random_forest_classifier = RandomForestClassifier()\n",
    "random_forest_classifier.fit(X, Y)"
   ]
  },
  {
   "cell_type": "code",
   "execution_count": 97,
   "metadata": {},
   "outputs": [
    {
     "name": "stdout",
     "output_type": "stream",
     "text": [
      "Average Accuracy: 75.45 %\n",
      "Standard Deviation: 3.10 %\n"
     ]
    }
   ],
   "source": [
    "# <<--- K fold cross validation --->> Before Parameter Tuning\n",
    "accuracies = cross_val_score(estimator = random_forest_classifier, scoring='accuracy', X = X, y = Y, cv = 5) \n",
    "\n",
    "print(\"Average Accuracy: {:.2f} %\".format(accuracies.mean()*100))\n",
    "print(\"Standard Deviation: {:.2f} %\".format(accuracies.std()*100))"
   ]
  },
  {
   "cell_type": "code",
   "execution_count": 98,
   "metadata": {},
   "outputs": [],
   "source": [
    "# Number of trees in random forest\n",
    "n_estimators = [int(x) for x in np.linspace(start = 200, stop = 3000, num = 100)]\n",
    "# Number of features to consider at every split\n",
    "max_features = ['auto', 'sqrt']\n",
    "# Maximum number of levels in tree\n",
    "max_depth = [int(x) for x in np.linspace(10, 110, num = 11)]\n",
    "max_depth.append(None)\n",
    "# Minimum number of samples required to split a node\n",
    "min_samples_split = [2, 5, 10]\n",
    "# Minimum number of samples required at each leaf node\n",
    "min_samples_leaf = [1, 2, 4]\n",
    "# Method of selecting samples for training each tree\n",
    "bootstrap = [True, False]\n",
    "\n",
    "# Create the Random grid\n",
    "\n",
    "parameters = {'n_estimators': n_estimators,\n",
    "               'max_features': max_features,\n",
    "               'max_depth': max_depth,\n",
    "               'min_samples_split': min_samples_split,\n",
    "               'min_samples_leaf': min_samples_leaf,\n",
    "               'bootstrap': bootstrap}"
   ]
  },
  {
   "cell_type": "code",
   "execution_count": 99,
   "metadata": {},
   "outputs": [
    {
     "name": "stdout",
     "output_type": "stream",
     "text": [
      "Best Accuracy square: 80.36 %\n",
      "Best Parameters: {'n_estimators': 2660, 'min_samples_split': 10, 'min_samples_leaf': 4, 'max_features': 'auto', 'max_depth': 40, 'bootstrap': True}\n"
     ]
    }
   ],
   "source": [
    "# <<-- Check the best Random Forest Model by parameter tuning -->>\n",
    "\n",
    "random_search = RandomizedSearchCV(estimator = random_forest_classifier,\n",
    "                           param_distributions = parameters,\n",
    "                           scoring = 'accuracy', \n",
    "                           cv = 5,\n",
    "                           n_jobs=4)\n",
    "\n",
    "random_search = random_search.fit(X, Y)\n",
    "\n",
    "best_accuracy = random_search.best_score_   \n",
    "best_parameters = random_search.best_params_  \n",
    "\n",
    "print(\"Best Accuracy square: {:.2f} %\".format(best_accuracy*100))\n",
    "print(\"Best Parameters:\", best_parameters)"
   ]
  },
  {
   "cell_type": "code",
   "execution_count": 100,
   "metadata": {},
   "outputs": [],
   "source": [
    "final_random_forest_classifier = RandomForestClassifier(n_estimators= 2660, min_samples_split= 10, min_samples_leaf= 4, max_features= 'auto',\n",
    "                                                        max_depth= 40, bootstrap= True)"
   ]
  },
  {
   "cell_type": "code",
   "execution_count": 101,
   "metadata": {},
   "outputs": [
    {
     "name": "stdout",
     "output_type": "stream",
     "text": [
      "Average Accuracy: 80.36 %\n",
      "Standard Deviation: 2.27 %\n"
     ]
    }
   ],
   "source": [
    "# <<--- K fold cross validation --->> After Parameter Tuning\n",
    "accuracies = cross_val_score(estimator = final_random_forest_classifier, scoring='accuracy', X = X, y = Y, cv = 5) \n",
    "\n",
    "print(\"Average Accuracy: {:.2f} %\".format(accuracies.mean()*100))\n",
    "print(\"Standard Deviation: {:.2f} %\".format(accuracies.std()*100))"
   ]
  },
  {
   "cell_type": "markdown",
   "metadata": {},
   "source": [
    "## 5. Ada Boost"
   ]
  },
  {
   "cell_type": "code",
   "execution_count": 102,
   "metadata": {},
   "outputs": [
    {
     "data": {
      "text/plain": [
       "AdaBoostClassifier(algorithm='SAMME.R', base_estimator=None, learning_rate=1.0,\n",
       "                   n_estimators=50, random_state=None)"
      ]
     },
     "execution_count": 102,
     "metadata": {},
     "output_type": "execute_result"
    }
   ],
   "source": [
    "ada_classifier = AdaBoostClassifier()\n",
    "ada_classifier.fit(X, Y)"
   ]
  },
  {
   "cell_type": "code",
   "execution_count": 103,
   "metadata": {},
   "outputs": [
    {
     "name": "stdout",
     "output_type": "stream",
     "text": [
      "Average Accuracy: 79.38 %\n",
      "Standard Deviation: 2.24 %\n"
     ]
    }
   ],
   "source": [
    "# <<--- K fold cross validation --->> Before Parameter Tuning\n",
    "accuracies = cross_val_score(estimator = ada_classifier, scoring='accuracy', X = X, y = Y, cv = 5) \n",
    "\n",
    "print(\"Average Accuracy: {:.2f} %\".format(accuracies.mean()*100))\n",
    "print(\"Standard Deviation: {:.2f} %\".format(accuracies.std()*100))"
   ]
  },
  {
   "cell_type": "code",
   "execution_count": 104,
   "metadata": {},
   "outputs": [],
   "source": [
    "parameters = {'n_estimators': [50, 100],\n",
    " 'learning_rate' : [0.01, 0.05, 0.1, 0.3, 1],\n",
    " 'algorithm' : ['SAMME', 'SAMME.R']}"
   ]
  },
  {
   "cell_type": "code",
   "execution_count": 105,
   "metadata": {},
   "outputs": [
    {
     "name": "stdout",
     "output_type": "stream",
     "text": [
      "Best R square: 80.85 %\n",
      "Best Parameters: {'n_estimators': 50, 'learning_rate': 0.01, 'algorithm': 'SAMME.R'}\n"
     ]
    }
   ],
   "source": [
    "# <<-- Check the best Ada Boost Model by parameter tuning -->>\n",
    "\n",
    "random_search = RandomizedSearchCV(estimator = ada_classifier,\n",
    "                           param_distributions = parameters,\n",
    "                           scoring = 'accuracy', \n",
    "                           cv = 5,\n",
    "                           n_jobs=4)\n",
    "\n",
    "random_search = random_search.fit(X, Y)\n",
    "\n",
    "best_accuracy = random_search.best_score_   \n",
    "best_parameters = random_search.best_params_  \n",
    "\n",
    "print(\"Best R square: {:.2f} %\".format(best_accuracy*100))\n",
    "print(\"Best Parameters:\", best_parameters)"
   ]
  },
  {
   "cell_type": "code",
   "execution_count": 106,
   "metadata": {},
   "outputs": [],
   "source": [
    "final_ada_classifier = AdaBoostClassifier(n_estimators= 50, learning_rate= 0.01, algorithm= 'SAMME.R')"
   ]
  },
  {
   "cell_type": "code",
   "execution_count": 107,
   "metadata": {},
   "outputs": [
    {
     "name": "stdout",
     "output_type": "stream",
     "text": [
      "Average Accuracy: 80.85 %\n",
      "Standard Deviation: 2.82 %\n"
     ]
    }
   ],
   "source": [
    "# <<--- K fold cross validation --->> Before Parameter Tuning\n",
    "accuracies = cross_val_score(estimator = final_ada_classifier, scoring='accuracy', X = X, y = Y, cv = 5) \n",
    "\n",
    "print(\"Average Accuracy: {:.2f} %\".format(accuracies.mean()*100))\n",
    "print(\"Standard Deviation: {:.2f} %\".format(accuracies.std()*100))"
   ]
  },
  {
   "cell_type": "markdown",
   "metadata": {},
   "source": [
    "## 6. Gradient Boost"
   ]
  },
  {
   "cell_type": "code",
   "execution_count": 108,
   "metadata": {},
   "outputs": [
    {
     "data": {
      "text/plain": [
       "GradientBoostingClassifier(criterion='friedman_mse', init=None,\n",
       "                           learning_rate=0.1, loss='deviance', max_depth=3,\n",
       "                           max_features=None, max_leaf_nodes=None,\n",
       "                           min_impurity_decrease=0.0, min_impurity_split=None,\n",
       "                           min_samples_leaf=1, min_samples_split=2,\n",
       "                           min_weight_fraction_leaf=0.0, n_estimators=100,\n",
       "                           n_iter_no_change=None, presort='auto',\n",
       "                           random_state=None, subsample=1.0, tol=0.0001,\n",
       "                           validation_fraction=0.1, verbose=0,\n",
       "                           warm_start=False)"
      ]
     },
     "execution_count": 108,
     "metadata": {},
     "output_type": "execute_result"
    }
   ],
   "source": [
    "gradient_boost = GradientBoostingClassifier()\n",
    "gradient_boost.fit(X, Y)"
   ]
  },
  {
   "cell_type": "code",
   "execution_count": 109,
   "metadata": {},
   "outputs": [
    {
     "name": "stdout",
     "output_type": "stream",
     "text": [
      "Average Accuracy: 78.72 %\n",
      "Standard Deviation: 3.71 %\n"
     ]
    }
   ],
   "source": [
    "# <<--- K fold cross validation --->> Before Parameter Tuning\n",
    "accuracies = cross_val_score(estimator = gradient_boost, scoring='accuracy', X = X, y = Y, cv = 5) \n",
    "\n",
    "print(\"Average Accuracy: {:.2f} %\".format(accuracies.mean()*100))\n",
    "print(\"Standard Deviation: {:.2f} %\".format(accuracies.std()*100))"
   ]
  },
  {
   "cell_type": "code",
   "execution_count": 110,
   "metadata": {},
   "outputs": [],
   "source": [
    "n_estimators = [int(x) for x in np.linspace(start = 200, stop = 2000, num = 100)]\n",
    "max_depth = range(3, 20, 2)\n",
    "subsample = [0.8, 0.85, 0.9, 0.95, 1]\n",
    "learning_rate =[0.001,0.005,0.01]\n",
    "\n",
    "\n",
    "# Create the Random grid\n",
    "\n",
    "parameters = {'n_estimators': n_estimators,\n",
    "               'max_depth': max_depth,\n",
    "               'subsample': subsample,\n",
    "                 'learning_rate': learning_rate}"
   ]
  },
  {
   "cell_type": "code",
   "execution_count": 111,
   "metadata": {},
   "outputs": [
    {
     "name": "stdout",
     "output_type": "stream",
     "text": [
      "Best R square: 79.38 %\n",
      "Best Parameters: {'subsample': 1, 'n_estimators': 690, 'max_depth': 9, 'learning_rate': 0.001}\n"
     ]
    }
   ],
   "source": [
    "# <<-- Check the best Gradient Boost Model by parameter tuning -->>\n",
    "\n",
    "random_search = RandomizedSearchCV(estimator = gradient_boost,\n",
    "                           param_distributions = parameters,\n",
    "                           scoring = 'accuracy', \n",
    "                           cv = 5,\n",
    "                           n_jobs=4)\n",
    "\n",
    "random_search = random_search.fit(X, Y)\n",
    "\n",
    "best_accuracy = random_search.best_score_   \n",
    "best_parameters = random_search.best_params_  \n",
    "\n",
    "print(\"Best R square: {:.2f} %\".format(best_accuracy*100))\n",
    "print(\"Best Parameters:\", best_parameters)"
   ]
  },
  {
   "cell_type": "code",
   "execution_count": 112,
   "metadata": {},
   "outputs": [],
   "source": [
    "final_gradientboost_classifier = GradientBoostingClassifier(subsample= 1, n_estimators= 690, max_depth= 9, \n",
    "                                                                    learning_rate= 0.001)"
   ]
  },
  {
   "cell_type": "code",
   "execution_count": 113,
   "metadata": {},
   "outputs": [
    {
     "name": "stdout",
     "output_type": "stream",
     "text": [
      "Average Accuracy: 79.21 %\n",
      "Standard Deviation: 3.31 %\n"
     ]
    }
   ],
   "source": [
    "# <<--- K fold cross validation --->> After Parameter Tuning\n",
    "accuracies = cross_val_score(estimator = final_gradientboost_classifier, scoring='accuracy', X = X, y = Y, cv = 5) \n",
    "\n",
    "print(\"Average Accuracy: {:.2f} %\".format(accuracies.mean()*100))\n",
    "print(\"Standard Deviation: {:.2f} %\".format(accuracies.std()*100))"
   ]
  },
  {
   "cell_type": "markdown",
   "metadata": {},
   "source": [
    "## 7. XGBoost"
   ]
  },
  {
   "cell_type": "code",
   "execution_count": 114,
   "metadata": {},
   "outputs": [
    {
     "data": {
      "text/plain": [
       "XGBClassifier(base_score=0.5, booster='gbtree', colsample_bylevel=1,\n",
       "              colsample_bynode=1, colsample_bytree=1, gamma=0, gpu_id=-1,\n",
       "              importance_type='gain', interaction_constraints='',\n",
       "              learning_rate=0.300000012, max_delta_step=0, max_depth=6,\n",
       "              min_child_weight=1, missing=nan, monotone_constraints='()',\n",
       "              n_estimators=100, n_jobs=0, num_parallel_tree=1,\n",
       "              objective='binary:logistic', random_state=0, reg_alpha=0,\n",
       "              reg_lambda=1, scale_pos_weight=1, subsample=1,\n",
       "              tree_method='exact', validate_parameters=1, verbosity=None)"
      ]
     },
     "execution_count": 114,
     "metadata": {},
     "output_type": "execute_result"
    }
   ],
   "source": [
    "xgboost_classifier = XGBClassifier()\n",
    "xgboost_classifier.fit(X, Y)"
   ]
  },
  {
   "cell_type": "code",
   "execution_count": 115,
   "metadata": {},
   "outputs": [
    {
     "name": "stdout",
     "output_type": "stream",
     "text": [
      "Average Accuracy: 76.76 %\n",
      "Standard Deviation: 2.09 %\n"
     ]
    }
   ],
   "source": [
    "# <<--- K fold cross validation --->> Before Parameter Tuning\n",
    "accuracies = cross_val_score(estimator = xgboost_classifier, scoring='accuracy', X = X, y = Y, cv = 5) \n",
    "\n",
    "print(\"Average Accuracy: {:.2f} %\".format(accuracies.mean()*100))\n",
    "print(\"Standard Deviation: {:.2f} %\".format(accuracies.std()*100))"
   ]
  },
  {
   "cell_type": "code",
   "execution_count": 116,
   "metadata": {},
   "outputs": [],
   "source": [
    "n_estimators = [int(x) for x in np.linspace(start = 200, stop = 2000, num = 100)]\n",
    "max_depth = range(3, 20, 2)\n",
    "gamma = [0, 1, 2, 3, 4, 5]\n",
    "colsample_bytree = [0.3, 0.4, 0.5, 0.6, 0.7, 0.8]\n",
    "subsample = [0.8, 0.85, 0.9, 0.95, 1]\n",
    "\n",
    "# Create the Random grid\n",
    "\n",
    "parameters = {'n_estimators': n_estimators,\n",
    "               'max_depth': max_depth,\n",
    "               'gamma': gamma,\n",
    "               'colsample_bytree': colsample_bytree,\n",
    "               'subsample': subsample}"
   ]
  },
  {
   "cell_type": "code",
   "execution_count": 117,
   "metadata": {},
   "outputs": [
    {
     "name": "stdout",
     "output_type": "stream",
     "text": [
      "Best R square: 80.85 %\n",
      "Best Parameters: {'subsample': 0.95, 'n_estimators': 418, 'max_depth': 9, 'gamma': 5, 'colsample_bytree': 0.3}\n"
     ]
    }
   ],
   "source": [
    "# <<-- Check the best XGBoost Model by parameter tuning -->>\n",
    "\n",
    "random_search = RandomizedSearchCV(estimator = xgboost_classifier,\n",
    "                           param_distributions  = parameters,\n",
    "                           scoring = 'accuracy', \n",
    "                           cv = 5,\n",
    "                           n_jobs=4)\n",
    "\n",
    "random_search = random_search.fit(X, Y)\n",
    "\n",
    "best_accuracy = random_search.best_score_   \n",
    "best_parameters = random_search.best_params_  \n",
    "\n",
    "print(\"Best R square: {:.2f} %\".format(best_accuracy*100))\n",
    "print(\"Best Parameters:\", best_parameters)"
   ]
  },
  {
   "cell_type": "code",
   "execution_count": 118,
   "metadata": {},
   "outputs": [],
   "source": [
    "final_xgboost_classifier = XGBClassifier(subsample=0.95, n_estimators= 418, max_depth= 9, gamma= 5, colsample_bytree= 0.3)"
   ]
  },
  {
   "cell_type": "code",
   "execution_count": 119,
   "metadata": {},
   "outputs": [
    {
     "name": "stdout",
     "output_type": "stream",
     "text": [
      "Average Accuracy: 80.85 %\n",
      "Standard Deviation: 3.10 %\n"
     ]
    }
   ],
   "source": [
    "# <<--- K fold cross validation --->> After Parameter Tuning\n",
    "accuracies = cross_val_score(estimator = final_xgboost_classifier, scoring='accuracy', X = X, y = Y, cv = 5) \n",
    "\n",
    "print(\"Average Accuracy: {:.2f} %\".format(accuracies.mean()*100))\n",
    "print(\"Standard Deviation: {:.2f} %\".format(accuracies.std()*100))"
   ]
  },
  {
   "cell_type": "markdown",
   "metadata": {},
   "source": [
    "## 9. Naive Bayes"
   ]
  },
  {
   "cell_type": "code",
   "execution_count": 120,
   "metadata": {},
   "outputs": [
    {
     "data": {
      "text/plain": [
       "GaussianNB(priors=None, var_smoothing=1e-09)"
      ]
     },
     "execution_count": 120,
     "metadata": {},
     "output_type": "execute_result"
    }
   ],
   "source": [
    "naive_classifier = GaussianNB()\n",
    "naive_classifier.fit(X, Y)"
   ]
  },
  {
   "cell_type": "code",
   "execution_count": 121,
   "metadata": {},
   "outputs": [
    {
     "name": "stdout",
     "output_type": "stream",
     "text": [
      "Average Accuracy: 80.20 %\n",
      "Standard Deviation: 2.99 %\n"
     ]
    }
   ],
   "source": [
    "# <<--- K fold cross validation --->> Before Parameter Tuning\n",
    "accuracies = cross_val_score(estimator = naive_classifier, scoring='accuracy', X = X, y = Y, cv = 5) \n",
    "\n",
    "print(\"Average Accuracy: {:.2f} %\".format(accuracies.mean()*100))\n",
    "print(\"Standard Deviation: {:.2f} %\".format(accuracies.std()*100))"
   ]
  },
  {
   "cell_type": "markdown",
   "metadata": {},
   "source": [
    "# Save Models"
   ]
  },
  {
   "cell_type": "code",
   "execution_count": 122,
   "metadata": {},
   "outputs": [],
   "source": [
    "with open('Logistic Regression.txt','wb') as f:\n",
    "    pickle.dump(final_logistic, f)"
   ]
  },
  {
   "cell_type": "code",
   "execution_count": 123,
   "metadata": {},
   "outputs": [],
   "source": [
    "with open('KNN Classifier.txt','wb') as f:\n",
    "    pickle.dump(final_knn_classifier, f)"
   ]
  },
  {
   "cell_type": "code",
   "execution_count": 124,
   "metadata": {},
   "outputs": [],
   "source": [
    "with open('SVM Classifier.txt','wb') as f:\n",
    "    pickle.dump(final_svm_classifier, f)"
   ]
  },
  {
   "cell_type": "code",
   "execution_count": 125,
   "metadata": {},
   "outputs": [],
   "source": [
    "with open('Random Forest Classifier.txt','wb') as f:\n",
    "    pickle.dump(final_random_forest_classifier, f)"
   ]
  },
  {
   "cell_type": "code",
   "execution_count": 126,
   "metadata": {},
   "outputs": [],
   "source": [
    "with open('Gradient Boost Classifier.txt','wb') as f:\n",
    "    pickle.dump(final_gradientboost_classifier, f)"
   ]
  },
  {
   "cell_type": "code",
   "execution_count": 127,
   "metadata": {},
   "outputs": [],
   "source": [
    "with open('XGBoost Classifier.txt','wb') as f:\n",
    "    pickle.dump(final_xgboost_classifier, f)"
   ]
  },
  {
   "cell_type": "code",
   "execution_count": 128,
   "metadata": {},
   "outputs": [],
   "source": [
    "with open('AdaBoost Classifier.txt','wb') as f:\n",
    "    pickle.dump(final_ada_classifier, f)"
   ]
  },
  {
   "cell_type": "code",
   "execution_count": 129,
   "metadata": {},
   "outputs": [],
   "source": [
    "with open('Naive Classifier.txt','wb') as f:\n",
    "    pickle.dump(naive_classifier, f)"
   ]
  },
  {
   "cell_type": "markdown",
   "metadata": {},
   "source": [
    "# Predict test data"
   ]
  },
  {
   "cell_type": "code",
   "execution_count": 130,
   "metadata": {},
   "outputs": [],
   "source": [
    "final_logistic.fit(X, Y)\n",
    "final_knn_classifier.fit(temp_train_X, temp_train_Y)\n",
    "final_svm_classifier.fit(temp_train_X, temp_train_Y)\n",
    "final_random_forest_classifier.fit(X, Y)\n",
    "final_gradientboost_classifier.fit(X, Y)\n",
    "final_ada_classifier.fit(X, Y)\n",
    "final_xgboost_classifier.fit(X, Y)\n",
    "naive_classifier.fit(X, Y)\n",
    "\n",
    "logistic_predictions = final_logistic.predict(test_df)\n",
    "knn_predictions = final_knn_classifier.predict(temp_test)\n",
    "svm_predictions = final_svm_classifier.predict(temp_test)\n",
    "random_forest_predictions = final_random_forest_classifier.predict(test_df)\n",
    "gradient_predictions = final_gradientboost_classifier.predict(test_df)\n",
    "ada_predictions = final_ada_classifier.predict(test_df)\n",
    "xgboost_predictions = final_xgboost_classifier.predict(test_df)\n",
    "naive_predictions = naive_classifier.predict(test_df)"
   ]
  },
  {
   "cell_type": "markdown",
   "metadata": {},
   "source": [
    "# Save CSV Files"
   ]
  },
  {
   "cell_type": "code",
   "execution_count": 131,
   "metadata": {},
   "outputs": [],
   "source": [
    "# <<<---- Save logistic_predictions ---->>>\n",
    "\n",
    "logistic_df = pd.DataFrame(data=list(zip(test_loan_id, pd.Series(logistic_predictions).replace({1:'Y', 0:'N'}))), columns=['Loan_ID', 'Loan_Status'])\n",
    "logistic_df.to_csv('logistic_predictions.csv')"
   ]
  },
  {
   "cell_type": "code",
   "execution_count": 132,
   "metadata": {},
   "outputs": [],
   "source": [
    "# <<<---- Save knn_predictions ---->>>\n",
    "\n",
    "knn_df = pd.DataFrame(data=list(zip(test_loan_id, pd.Series(knn_predictions).replace({1:'Y', 0:'N'}))), columns=['Loan_ID', 'Loan_Status'])\n",
    "knn_df.to_csv('knn_predictions.csv')"
   ]
  },
  {
   "cell_type": "code",
   "execution_count": 133,
   "metadata": {},
   "outputs": [],
   "source": [
    "# <<<---- Save svm_predictions ---->>>\n",
    "\n",
    "svm_df = pd.DataFrame(data=list(zip(test_loan_id, pd.Series(svm_predictions).replace({1:'Y', 0:'N'}))), columns=['Loan_ID', 'Loan_Status'])\n",
    "svm_df.to_csv('svm_predictions.csv')"
   ]
  },
  {
   "cell_type": "code",
   "execution_count": 134,
   "metadata": {},
   "outputs": [],
   "source": [
    "# <<<---- Save random_forest_predictions ---->>>\n",
    "\n",
    "random_forest_df = pd.DataFrame(data=list(zip(test_loan_id, pd.Series(random_forest_predictions).replace({1:'Y', 0:'N'}))), columns=['Loan_ID', 'Loan_Status'])\n",
    "random_forest_df.to_csv('random_forest_predictions.csv')"
   ]
  },
  {
   "cell_type": "code",
   "execution_count": 135,
   "metadata": {},
   "outputs": [],
   "source": [
    "# <<<---- Save gradient_predictions ---->>>\n",
    "\n",
    "gradient_df = pd.DataFrame(data=list(zip(test_loan_id, pd.Series(gradient_predictions).replace({1:'Y', 0:'N'}))), columns=['Loan_ID', 'Loan_Status'])\n",
    "gradient_df.to_csv('gradient_predictions.csv')"
   ]
  },
  {
   "cell_type": "code",
   "execution_count": 136,
   "metadata": {},
   "outputs": [],
   "source": [
    "# <<<---- Save ada_predictions ---->>>\n",
    "\n",
    "ada_df = pd.DataFrame(data=list(zip(test_loan_id, pd.Series(ada_predictions).replace({1:'Y', 0:'N'}))), columns=['Loan_ID', 'Loan_Status'])\n",
    "ada_df.to_csv('ada_predictions.csv')"
   ]
  },
  {
   "cell_type": "code",
   "execution_count": 137,
   "metadata": {},
   "outputs": [],
   "source": [
    "# <<<---- Save xgboost_predictions ---->>>\n",
    "\n",
    "xgboost_df = pd.DataFrame(data=list(zip(test_loan_id, pd.Series(xgboost_predictions).replace({1:'Y', 0:'N'}))), columns=['Loan_ID', 'Loan_Status'])\n",
    "xgboost_df.to_csv('xgboost_predictions.csv')"
   ]
  },
  {
   "cell_type": "code",
   "execution_count": 138,
   "metadata": {},
   "outputs": [],
   "source": [
    "# <<<---- Save naive_predictions ---->>>\n",
    "\n",
    "naive_df = pd.DataFrame(data=list(zip(test_loan_id, pd.Series(naive_predictions).replace({1:'Y', 0:'N'}))), columns=['Loan_ID', 'Loan_Status'])\n",
    "naive_df.to_csv('naive_predictions.csv')"
   ]
  },
  {
   "cell_type": "code",
   "execution_count": 139,
   "metadata": {},
   "outputs": [
    {
     "data": {
      "text/plain": [
       "<matplotlib.axes._subplots.AxesSubplot at 0x23460750a88>"
      ]
     },
     "execution_count": 139,
     "metadata": {},
     "output_type": "execute_result"
    },
    {
     "data": {
      "image/png": "[encoded data removed]",
      "text/plain": [
       "<Figure size 432x288 with 1 Axes>"
      ]
     },
     "metadata": {
      "needs_background": "light"
     },
     "output_type": "display_data"
    }
   ],
   "source": [
    "sns.barplot(x=final_random_forest_classifier.feature_importances_, y= X.columns)"
   ]
  },
  {
   "cell_type": "code",
   "execution_count": null,
   "metadata": {},
   "outputs": [],
   "source": []
  }
 ],
 "metadata": {
  "kernelspec": {
   "display_name": "Python 3",
   "language": "python",
   "name": "python3"
  },
  "language_info": {
   "codemirror_mode": {
    "name": "ipython",
    "version": 3
   },
   "file_extension": ".py",
   "mimetype": "text/x-python",
   "name": "python",
   "nbconvert_exporter": "python",
   "pygments_lexer": "ipython3",
   "version": "3.7.4"
  }
 },
 "nbformat": 4,
 "nbformat_minor": 2
}
